{
 "cells": [
  {
   "cell_type": "markdown",
   "metadata": {},
   "source": [
    "# 1. Collect Data"
   ]
  },
  {
   "cell_type": "code",
   "execution_count": 16,
   "metadata": {},
   "outputs": [
    {
     "name": "stdout",
     "output_type": "stream",
     "text": [
      "[TimeSignature(numerator=3, denominator=4, time=0)]\n",
      "480\n"
     ]
    },
    {
     "data": {
      "text/plain": [
       "'\\n    for all notes in a bar:\\n        find the lowest\\n        then all pitch relative to that \\n        then calculate start time and duration by dividing with ticks per beat\\n'"
      ]
     },
     "execution_count": 16,
     "metadata": {},
     "output_type": "execute_result"
    }
   ],
   "source": [
    "import glob\n",
    "from miditoolkit.midi import parser as mid_parser  \n",
    "from miditoolkit.midi import containers as ct\n",
    "\n",
    "\n",
    "database = []\n",
    "for midifile in glob.glob(\"../data/nice_format/*.mid\"): #Replace it with your own directory\n",
    "    mido = mid_parser.MidiFile(midifile)\n",
    "    print(mido.time_signature_changes)\n",
    "    if len(mido.time_signature_changes) > 1:\n",
    "        print(f\"{midifile} has more than one time signature change hence it will not be processed for now.\")\n",
    "        continue\n",
    "    tpb = mido.ticks_per_beat\n",
    "    numerator = mido.time_signature_changes[0].numerator\n",
    "    denominator = mido.time_signature_changes[0].denominator\n",
    "    print(tpb)\n",
    "    if mido.instruments[1].name.find(\"left\") == -1:\n",
    "        print(f\"{midifile} may not have left channel, please check.\")\n",
    "        continue\n",
    "    add_interval = tpb*numerator\n",
    "    current_tick = tpb*numerator     \n",
    "    notelist = []\n",
    "    tmp_notelist = []\n",
    "    for note in mido.instruments[1].notes:\n",
    "        if note.start < current_tick:\n",
    "            if note.end > current_tick:\n",
    "                tmp_notelist.append(ct.Note(start=current_tick,end=note.end,pitch=note.pitch,velocity=note.velocity))\n",
    "                notelist.append(ct.Note(start=note.start,end=current_tick,pitch=note.pitch,velocity=note.velocity))\n",
    "            else:\n",
    "                notelist.append(note)\n",
    "        else:\n",
    "            database.append(notes_bar_processing(notelist,tpb,numerator,denominator))\n",
    "            notelist = []\n",
    "            current_tick += add_interval\n",
    "            tmp2 = []\n",
    "            for note2 in tmp_notelist:\n",
    "                if note2.end > current_tick:\n",
    "                    tmp2.append(ct.Note(start=current_tick,end=note2.end,pitch=note2.pitch,velocity=note2.velocity))\n",
    "                    notelist.append(ct.Note(start=note2.start,end=current_tick,pitch=note2.pitch,velocity=note2.velocity))\n",
    "                else:\n",
    "                    notelist.append(note2)\n",
    "            tmp_notelist = tmp2\n",
    "    break\n",
    "\n",
    "#continue build\n",
    "'''\n",
    "    for all notes in a bar:\n",
    "        find the lowest\n",
    "        then all pitch relative to that \n",
    "        then calculate start time and duration by dividing with ticks per beat\n",
    "'''"
   ]
  },
  {
   "cell_type": "code",
   "execution_count": null,
   "metadata": {},
   "outputs": [],
   "source": [
    "class notes:\n",
    "    def __init__(self,s,i,v):\n",
    "        self.start = s\n",
    "        self.relative_interval = i\n",
    "        self.value = v\n",
    "\n",
    "\n",
    "class Accompany:\n",
    "    def __init__(self,num=4,den=4,notelist=[],classjson=None):\n",
    "        if classjson is None:\n",
    "            self.numerator = num\n",
    "            self.denominator = den\n",
    "            self.notelist = notelist\n",
    "        else:\n",
    "            self.numerator = classjson[\"numerator\"]\n",
    "            self.denominator = classjson[\"denominator\"]\n",
    "            self.notelist = classjson['notelist']\n",
    "    \n",
    "    def export_json(self):\n",
    "        return\n",
    "\n",
    "    def add_notes(self,n:notes):\n",
    "        self.notelist.append(n)"
   ]
  },
  {
   "cell_type": "code",
   "execution_count": null,
   "metadata": {},
   "outputs": [],
   "source": [
    "def notes_bar_processing(notes,tpb,num,den):\n",
    "    \n",
    "    #note.start\n",
    "    #note.end\n",
    "    #note.pitch\n",
    "    "
   ]
  },
  {
   "cell_type": "code",
   "execution_count": null,
   "metadata": {},
   "outputs": [],
   "source": [
    "#skyline_reverse plus choose all notes with lowest channel for the rhythm"
   ]
  }
 ],
 "metadata": {
  "interpreter": {
   "hash": "f90a8f327bbf957d1d138e454cc509f13d39a72e7837f7d98e02c25d0e3059a9"
  },
  "kernelspec": {
   "display_name": "Python 3.8.10 64-bit ('fyp': conda)",
   "language": "python",
   "name": "python3"
  },
  "language_info": {
   "codemirror_mode": {
    "name": "ipython",
    "version": 3
   },
   "file_extension": ".py",
   "mimetype": "text/x-python",
   "name": "python",
   "nbconvert_exporter": "python",
   "pygments_lexer": "ipython3",
   "version": "3.8.10"
  },
  "orig_nbformat": 4
 },
 "nbformat": 4,
 "nbformat_minor": 2
}
