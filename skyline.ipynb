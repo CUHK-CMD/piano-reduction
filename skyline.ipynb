{
 "cells": [
  {
   "cell_type": "code",
   "execution_count": 15,
   "id": "b0ea8b23-7520-4c17-85fc-d8b021d4e950",
   "metadata": {},
   "outputs": [],
   "source": [
    "from mido import MidiFile\n",
    "import time\n",
    "import operator\n",
    "from mido import MidiFile\n",
    "import math\n",
    "piece = \"Knewyouweretrouble.mid\"\n",
    "mid_in = MidiFile(piece,clip=True)"
   ]
  },
  {
   "cell_type": "code",
   "execution_count": 16,
   "id": "389bdcb5",
   "metadata": {},
   "outputs": [],
   "source": [
    "from miditoolkit.midi import parser as mid_parser  \n",
    "from miditoolkit.midi import containers as ct"
   ]
  },
  {
   "cell_type": "code",
   "execution_count": null,
   "id": "fe05af85-9436-4e1b-bd05-d4f9a4ffcda2",
   "metadata": {},
   "outputs": [],
   "source": [
    "# from music21 import *\n",
    "# c = converter.parse(piece) #Also OK, check how to process"
   ]
  },
  {
   "cell_type": "code",
   "execution_count": null,
   "id": "67359c1e-25e9-4731-bbfd-8f40b375e6be",
   "metadata": {},
   "outputs": [],
   "source": [
    "#https://stackoverflow.com/questions/63105201/python-mido-how-to-get-note-starttime-stoptime-track-in-a-list\n",
    "#https://dev.to/varlen/editing-midi-files-with-python-2m0g (checking how to get back this)"
   ]
  },
  {
   "cell_type": "code",
   "execution_count": 26,
   "id": "d08d475e-eb57-48ca-a6d5-a5d30217d2a0",
   "metadata": {},
   "outputs": [],
   "source": [
    "import numpy as np\n",
    "class noteMidi:\n",
    "    def __init__(self,p,s,e):\n",
    "        self.pitch = p\n",
    "        self.onset = s\n",
    "        self.offset = e\n",
    "        \n",
    "def mergeIntervals(arr):\n",
    "        # Sorting based on the increasing order \n",
    "        # of the start intervals\n",
    "        arr.sort(key = lambda x: x[0]) \n",
    "        # array to hold the merged intervals\n",
    "        m = []\n",
    "        s = -10000\n",
    "        max = -100000\n",
    "        for i in range(len(arr)):\n",
    "            a = arr[i]\n",
    "            if a[0] > max:\n",
    "                if i != 0:\n",
    "                    m.append([s,max])\n",
    "                max = a[1]\n",
    "                s = a[0]\n",
    "            else:\n",
    "                if a[1] >= max:\n",
    "                    max = a[1]        \n",
    "        #'max' value gives the last point of \n",
    "        # that particular interval\n",
    "        # 's' gives the starting point of that interval\n",
    "        # 'm' array contains the list of all merged intervals\n",
    "        if max != -100000 and [s, max] not in m:\n",
    "            m.append([s, max])\n",
    "        return m\n",
    "\n",
    "def gettop(note,intervals):\n",
    "    note_interval = [note.onset,note.offset]\n",
    "    overlap_time = 0\n",
    "    total_time = note.offset - note.onset\n",
    "    if total_time == 0:\n",
    "        return 1 #(we do not need this note)\n",
    "    for interval in intervals:\n",
    "        maxstart = max(note_interval[0],interval[0])\n",
    "        minend = min(note_interval[1],interval[1])\n",
    "        if maxstart < minend:\n",
    "            overlap_time += minend-maxstart\n",
    "    return overlap_time/total_time\n",
    "\n",
    "def skyline(notes): #revised skyline algorithm by Chai, 2000\n",
    "    #Performed on a single channel\n",
    "    accepted_notes = []\n",
    "    notes = sorted(notes, key=lambda x: x.pitch, reverse=True)\n",
    "    intervals = []\n",
    "    for note in notes:\n",
    "        if gettop(note,intervals) <=0.5:\n",
    "            accepted_notes.append(note)\n",
    "            intervals.append([note.onset,note.offset])\n",
    "            intervals = mergeIntervals(intervals)\n",
    "    return sorted(accepted_notes,key=lambda x: x.onset)\n",
    "    \n",
    "    \n",
    "            "
   ]
  },
  {
   "cell_type": "code",
   "execution_count": 27,
   "id": "87b45219",
   "metadata": {},
   "outputs": [
    {
     "name": "stdout",
     "output_type": "stream",
     "text": [
      "15720 1828\n"
     ]
    }
   ],
   "source": [
    "# # channel_no = 6\n",
    "# notelist = []\n",
    "# for inst in mido_obj.instruments:\n",
    "#     for notes in inst.notes:\n",
    "#         notelist.append(noteMidi(notes.pitch,notes.start,notes.end))\n",
    "# notelist_new = skyline(notelist)\n",
    "# print(len(notelist),len(notelist_new))"
   ]
  },
  {
   "cell_type": "code",
   "execution_count": 29,
   "id": "905cadef",
   "metadata": {},
   "outputs": [],
   "source": [
    "#Helper function for calculating Eucliedean Distance\n",
    "#Works with list as well as properly indexed dictionary\n",
    "def dist(v1,v2):\n",
    "    assert len(v1) == len(v2)\n",
    "    tmp = 0\n",
    "    for dim in range(len(v1)):\n",
    "        tmp += (v1[dim]-v2[dim]) ** 2\n",
    "    return math.sqrt(tmp)\n",
    "\n",
    "def cluster_dist(c1,c2,histo):\n",
    "    dict1 = dict()\n",
    "    dict2 = dict()\n",
    "    for i in range(12):\n",
    "        dict1[i] = 0\n",
    "        dict2[i] = 0\n",
    "    for ind in c1:\n",
    "        for k in histo[ind]:\n",
    "            dict1[k] += histo[ind][k]\n",
    "    for ind in c2:\n",
    "        for k in histo[ind]:\n",
    "            dict2[k] += histo[ind][k]\n",
    "    return dist(dict1,dict2)\n",
    "    "
   ]
  },
  {
   "cell_type": "code",
   "execution_count": 42,
   "id": "21055956",
   "metadata": {},
   "outputs": [
    {
     "name": "stdout",
     "output_type": "stream",
     "text": [
      "Threshold 57.4803535627241\n",
      "Resultant Cluster: [[0], [9], [11], [1, 2], [13, 4, 7, 8], [10, 12], [3, 5, 6]]\n"
     ]
    }
   ],
   "source": [
    "# Implementation of the paper: Melody extraction on MIDI music files (Ozcan etal,2005)\n",
    "piece = \"aligned/aligned/hand_picked_spotify-34/orchestra.mid\"\n",
    "mido_obj = mid_parser.MidiFile(piece)\n",
    "tpb = mido_obj.ticks_per_beat\n",
    "all_notes = [] #This will be a 2D list of notes for each channel\n",
    "for inst in mido_obj.instruments:\n",
    "    #ignore percussion channel\n",
    "    if inst.is_drum:\n",
    "        continue\n",
    "    notelist = []\n",
    "    for notes in inst.notes:\n",
    "        notelist.append(noteMidi(notes.pitch,notes.start,notes.end))\n",
    "    notelist = skyline(notelist)\n",
    "    if len(notelist) > 0:\n",
    "        all_notes.append(notelist)\n",
    "#Calculate a_i, b_i and x_i (refer to paper P.5)\n",
    "x = []\n",
    "pitch_histogram = []\n",
    "for notelist in all_notes:\n",
    "    total_pitch = 0\n",
    "    pitchrange = dict()\n",
    "    for note1 in notelist:\n",
    "        total_pitch += note1.pitch\n",
    "        if note1.pitch in pitchrange:\n",
    "            pitchrange[note1.pitch] += 1\n",
    "        else:\n",
    "            pitchrange[note1.pitch] = 1\n",
    "    avg_pitch = total_pitch / len(notelist) #This is a_i\n",
    "    entropy = 0\n",
    "    pitchhist = dict()\n",
    "    for i in range(12):\n",
    "        pitchhist[i] = 0\n",
    "    for distinct_pitch in pitchrange:\n",
    "        probit = pitchrange[distinct_pitch] / len(notelist)\n",
    "        entropy += probit * math.log(probit)\n",
    "        pitchhist[distinct_pitch%12] += pitchrange[distinct_pitch]\n",
    "    entropy = -entropy # This is b_i\n",
    "    x.append(avg_pitch + 128*entropy) #This is x_i\n",
    "    pitch_histogram.append(pitchhist) #Pitch histogram normalized to 12 pitches\n",
    "#Calculate Clustering Threshold\n",
    "#First Calculate average histogram h_A\n",
    "avg_histogram = dict()\n",
    "for i in range(12):\n",
    "    avg_histogram[i] = 0\n",
    "for ph in pitch_histogram:\n",
    "    for i in range(12):\n",
    "        avg_histogram[i] += ph[i]\n",
    "weighted_avg_histogram = avg_histogram.copy()\n",
    "total_pitch = 0\n",
    "for i in range(12):\n",
    "    total_pitch += avg_histogram[i]\n",
    "    avg_histogram[i] /= len(pitch_histogram)\n",
    "#IS THIS CORRECT??????????? (From paper equation 14)\n",
    "for i in range(12):\n",
    "    weighted_avg_histogram[i] = weighted_avg_histogram[i] * (weighted_avg_histogram[i]/total_pitch)\n",
    "#Threshold\n",
    "t = dist(avg_histogram,weighted_avg_histogram)#/2\n",
    "print(\"Threshold\",t)\n",
    "clusters = [[i] for i in range(len(all_notes))] #index based to denote channels\n",
    "is_changed = True\n",
    "#Agglomerative Clustering: just use Naive O(n^2) method since n<=16\n",
    "#Here we \n",
    "while is_changed:\n",
    "    is_changed = False\n",
    "    min_dist = t\n",
    "    min_c1,min_c2 = None,None\n",
    "    for c1 in clusters:\n",
    "        for c2 in clusters:\n",
    "            if c1 != c2:\n",
    "                new_dist = cluster_dist(c1,c2,pitch_histogram) \n",
    "                if new_dist < min_dist:\n",
    "                    min_dist = new_dist\n",
    "                    min_c1 = c1\n",
    "                    min_c2 = c2\n",
    "    if min_c1 is not None:\n",
    "        is_changed = True\n",
    "        new_cluster = min_c1.copy()\n",
    "        new_cluster.extend(min_c2)\n",
    "        clusters.remove(min_c1)\n",
    "        clusters.remove(min_c2)\n",
    "        clusters.append(new_cluster)\n",
    "print(\"Resultant Cluster:\",clusters)\n",
    "clustered_notelist = []\n",
    "#Select melody channels in each cluster and group them together\n",
    "for cluster in clusters:\n",
    "    max_x = 0\n",
    "    melody_channel = None\n",
    "    for ind in cluster:\n",
    "        if x[ind] > max_x:\n",
    "            max_x = x[ind]\n",
    "            melody_channel = ind\n",
    "    clustered_notelist.extend(all_notes[melody_channel])\n",
    "final_notelist = skyline(clustered_notelist)"
   ]
  },
  {
   "cell_type": "code",
   "execution_count": 43,
   "id": "fab53dac",
   "metadata": {},
   "outputs": [
    {
     "name": "stdout",
     "output_type": "stream",
     "text": [
      "result.mid\n"
     ]
    }
   ],
   "source": [
    "mido_out = mid_parser.MidiFile()\n",
    "mido_out.ticks_per_beat = tpb\n",
    "track = ct.Instrument(program=0,is_drum=False,name='example track')\n",
    "mido_out.instruments = [track]\n",
    "for note in final_notelist:\n",
    "    mido_out.instruments[0].notes.append(ct.Note(start=note.onset,end=note.offset,pitch=note.pitch,velocity=30))\n",
    "mido_out.dump(\"result.mid\")"
   ]
  }
 ],
 "metadata": {
  "kernelspec": {
   "display_name": "Python 3 (ipykernel)",
   "language": "python",
   "name": "python3"
  },
  "language_info": {
   "codemirror_mode": {
    "name": "ipython",
    "version": 3
   },
   "file_extension": ".py",
   "mimetype": "text/x-python",
   "name": "python",
   "nbconvert_exporter": "python",
   "pygments_lexer": "ipython3",
   "version": "3.8.10"
  }
 },
 "nbformat": 4,
 "nbformat_minor": 5
}
