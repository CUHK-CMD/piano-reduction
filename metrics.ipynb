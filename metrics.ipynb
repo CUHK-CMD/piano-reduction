{
 "cells": [
  {
   "cell_type": "code",
   "execution_count": 1,
   "metadata": {},
   "outputs": [],
   "source": [
    "from postprocessing import postprocess"
   ]
  },
  {
   "cell_type": "code",
   "execution_count": 2,
   "metadata": {},
   "outputs": [
    {
     "data": {
      "text/plain": [
       "77"
      ]
     },
     "execution_count": 2,
     "metadata": {},
     "output_type": "execute_result"
    }
   ],
   "source": [
    "import glob\n",
    "files = glob.glob(\"./objective_eval/algo_unprocessed/*.mid\")\n",
    "len(files)"
   ]
  },
  {
   "cell_type": "code",
   "execution_count": 3,
   "metadata": {},
   "outputs": [
    {
     "name": "stdout",
     "output_type": "stream",
     "text": [
      "output to: ./objective_eval/algo_processed/1st Movement from Sonate No 1 - for SATTB_orch.mid #notes: 633\n",
      "output to: ./objective_eval/algo_processed/Ach groser Konig (Choral) (vocal score only)_orch.mid #notes: 302\n",
      "output to: ./objective_eval/algo_processed/Afflictus sum_orch.mid #notes: 157\n",
      "output to: ./objective_eval/algo_processed/All Through the Night (Ar Hyd y Nos)_orch.mid #notes: 615\n",
      "output to: ./objective_eval/algo_processed/Allegro from Duet Sonata No 9 (for S A T)_orch.mid #notes: 285\n",
      "output to: ./objective_eval/algo_processed/art_of_fugue_contrapunctum_15_orch.mid #notes: 2528\n",
      "output to: ./objective_eval/algo_processed/Ave Maria(Meditation on Prelude No. 1 by J.S.Bach)_orch.mid #notes: 972\n",
      "output to: ./objective_eval/algo_processed/Canon a 4 perpetuus_chamber_orch.mid #notes: 575\n",
      "output to: ./objective_eval/algo_processed/carnival_animals_2_orch.mid #notes: 262\n",
      "output to: ./objective_eval/algo_processed/Concerto for soprano recorder and string orchestra 3. Marsch_orch.mid #notes: 1533\n",
      "output to: ./objective_eval/algo_processed/concerto_2_21_2_orch.mid #notes: 2537\n",
      "output to: ./objective_eval/algo_processed/concerto_in_c_major_1_orch.mid #notes: 1049\n",
      "output to: ./objective_eval/algo_processed/concerto_la_stravaganza_4_1_orch.mid #notes: 2572\n",
      "output to: ./objective_eval/algo_processed/Confitebor tibi Domine (Vesper Song)_orch.mid #notes: 890\n",
      "output to: ./objective_eval/algo_processed/Da Jesus geboren ward_orch.mid #notes: 1455\n",
      "output to: ./objective_eval/algo_processed/Dancing Moon_orch.mid #notes: 1546\n",
      "output to: ./objective_eval/algo_processed/Dies irae (2nd part)_orch.mid #notes: 1349\n",
      "output to: ./objective_eval/algo_processed/Dixit Dominus N 9 Gloria_orch.mid #notes: 2866\n",
      "output to: ./objective_eval/algo_processed/Down by the Sally Gardens (arr.)_chamber_orch.mid #notes: 244\n",
      "output to: ./objective_eval/algo_processed/Etude for soprano saxophone, alto saxophone and piano (arr.)_orch.mid #notes: 1565\n",
      "output to: ./objective_eval/algo_processed/fantasias_7_orch.mid #notes: 2273\n",
      "output to: ./objective_eval/algo_processed/Fugue in G Minor (arr. string quartet)_orch.mid #notes: 680\n",
      "output to: ./objective_eval/algo_processed/giulio_cesare_2_8_5_0_orch.mid #notes: 1185\n",
      "output to: ./objective_eval/algo_processed/Gloria in D major ( 1. _Gloria in excelsis Deo_)_orch.mid #notes: 968\n",
      "output to: ./objective_eval/algo_processed/Gott im Ungewitter_orch.mid #notes: 1578\n",
      "output to: ./objective_eval/algo_processed/Gott und Vater sei gepriesen_ 3rd Finale Coro_orch.mid #notes: 2734\n",
      "output to: ./objective_eval/algo_processed/Grablied_orch.mid #notes: 379\n",
      "output to: ./objective_eval/algo_processed/Innocentes_orch.mid #notes: 710\n",
      "output to: ./objective_eval/algo_processed/Jesu, meine Freude (Motet,  11th mvt_  Weicht, ihr Trauergeister)_orch.mid #notes: 263\n",
      "output to: ./objective_eval/algo_processed/Kyrie eleison (Ordinarium for double choire)_orch.mid #notes: 236\n",
      "output to: ./objective_eval/algo_processed/La Billiarda_orch.mid #notes: 1725\n",
      "output to: ./objective_eval/algo_processed/Laudate pueri Dominum (Vesper Song)_orch.mid #notes: 1036\n",
      "output to: ./objective_eval/algo_processed/lohengp1.mid #notes: 973\n",
      "output to: ./objective_eval/algo_processed/Lucilla, io vo morire (Madrigal)_orch.mid #notes: 355\n",
      "output to: ./objective_eval/algo_processed/Magnify Nr. 1_orch.mid #notes: 912\n",
      "output to: ./objective_eval/algo_processed/Maria durch ein Dornwald ging_orch.mid #notes: 448\n",
      "output to: ./objective_eval/algo_processed/Mass in D minor (Number one_ Kyrie)_orch.mid #notes: 1512\n",
      "output to: ./objective_eval/algo_processed/Mass in F major - Kyrie_orch.mid #notes: 641\n",
      "output to: ./objective_eval/algo_processed/matthaeum_passion_bwv-244_29_orch.mid #notes: 1907\n",
      "output to: ./objective_eval/algo_processed/Melancholia_orch.mid #notes: 1047\n",
      "output to: ./objective_eval/algo_processed/messiah_12_orch.mid #notes: 2379\n",
      "output to: ./objective_eval/algo_processed/messiah_33_orch.mid #notes: 1169\n",
      "output to: ./objective_eval/algo_processed/midsummer_14_orch.mid #notes: 2172\n",
      "output to: ./objective_eval/algo_processed/minor_works_hess-246_orch.mid #notes: 736\n",
      "output to: ./objective_eval/algo_processed/My Heart Expected Reproach (Motet)_orch.mid #notes: 459\n",
      "output to: ./objective_eval/algo_processed/Nocturno No. 4_orch.mid #notes: 683\n",
      "output to: ./objective_eval/algo_processed/Nun komm, der Heiden Heiland (Arr.)_orch.mid #notes: 459\n",
      "output to: ./objective_eval/algo_processed/nutcracker_suite_march_71a_2_orch.mid #notes: 1537\n",
      "output to: ./objective_eval/algo_processed/O la, o che bon eccho !_orch.mid #notes: 410\n",
      "output to: ./objective_eval/algo_processed/Offertory in C_orch.mid #notes: 2133\n",
      "output to: ./objective_eval/algo_processed/partita_c-minor_6_orch.mid #notes: 908\n",
      "output to: ./objective_eval/algo_processed/Pavane_orch.mid #notes: 1812\n",
      "output to: ./objective_eval/algo_processed/Perduto un altra volta (No. 41a, Recit. accomp.)_orch.mid #notes: 590\n",
      "output to: ./objective_eval/algo_processed/piano_trio_93_3_orch.mid #notes: 3945\n",
      "output to: ./objective_eval/algo_processed/pulcheria_3_orch.mid #notes: 1659\n",
      "output to: ./objective_eval/algo_processed/Quartet movement_ Andante in C Major_orch.mid #notes: 1019\n",
      "output to: ./objective_eval/algo_processed/Quartet Movement_ Andante sostenuto in C Major_orch.mid #notes: 867\n",
      "output to: ./objective_eval/algo_processed/recercari-et-canzoni-francesi_recercar_vii_orch.mid #notes: 960\n",
      "output to: ./objective_eval/algo_processed/Ricercar del primo tuono , 1st mvt Allegro_orch.mid #notes: 680\n",
      "output to: ./objective_eval/algo_processed/Solemn Mass Nr. 7 Bring Us Peace_orch.mid #notes: 1027\n",
      "output to: ./objective_eval/algo_processed/Sonata in Bb Major for solo violin, strings and two oboes_orch.mid #notes: 925\n"
     ]
    },
    {
     "ename": "KeyboardInterrupt",
     "evalue": "",
     "output_type": "error",
     "traceback": [
      "\u001b[1;31m---------------------------------------------------------------------------\u001b[0m",
      "\u001b[1;31mKeyboardInterrupt\u001b[0m                         Traceback (most recent call last)",
      "\u001b[1;32m~\\AppData\\Local\\Temp/ipykernel_30156/3712941987.py\u001b[0m in \u001b[0;36m<module>\u001b[1;34m\u001b[0m\n\u001b[0;32m      3\u001b[0m \u001b[1;32mfor\u001b[0m \u001b[0mfile\u001b[0m \u001b[1;32min\u001b[0m \u001b[0mfiles\u001b[0m\u001b[1;33m:\u001b[0m\u001b[1;33m\u001b[0m\u001b[1;33m\u001b[0m\u001b[0m\n\u001b[0;32m      4\u001b[0m     \u001b[0moutpath\u001b[0m \u001b[1;33m=\u001b[0m \u001b[0mtarget_dir\u001b[0m \u001b[1;33m+\u001b[0m \u001b[0mos\u001b[0m\u001b[1;33m.\u001b[0m\u001b[0mpath\u001b[0m\u001b[1;33m.\u001b[0m\u001b[0mbasename\u001b[0m\u001b[1;33m(\u001b[0m\u001b[0mfile\u001b[0m\u001b[1;33m)\u001b[0m\u001b[1;33m\u001b[0m\u001b[1;33m\u001b[0m\u001b[0m\n\u001b[1;32m----> 5\u001b[1;33m     \u001b[0mpostprocess\u001b[0m\u001b[1;33m(\u001b[0m\u001b[0mfile\u001b[0m\u001b[1;33m,\u001b[0m\u001b[0moutpath\u001b[0m\u001b[1;33m)\u001b[0m\u001b[1;33m\u001b[0m\u001b[1;33m\u001b[0m\u001b[0m\n\u001b[0m",
      "\u001b[1;32mc:\\Users\\good6\\Documents\\GitHub\\fyp-piano-reduction\\postprocessing.py\u001b[0m in \u001b[0;36mpostprocess\u001b[1;34m(inpath, outpath, merge_threshold, discrete_note_threshold, merge)\u001b[0m\n\u001b[0;32m    552\u001b[0m     \u001b[1;31m#print(f'before post-processing {org_notes} notes')\u001b[0m\u001b[1;33m\u001b[0m\u001b[1;33m\u001b[0m\u001b[1;33m\u001b[0m\u001b[0m\n\u001b[0;32m    553\u001b[0m     \u001b[0mnotes\u001b[0m \u001b[1;33m=\u001b[0m \u001b[0mtrim_long_notes\u001b[0m\u001b[1;33m(\u001b[0m\u001b[0mnotes\u001b[0m\u001b[1;33m,\u001b[0m \u001b[0mtick_per_beat\u001b[0m\u001b[1;33m)\u001b[0m\u001b[1;33m\u001b[0m\u001b[1;33m\u001b[0m\u001b[0m\n\u001b[1;32m--> 554\u001b[1;33m     \u001b[0mnotes\u001b[0m\u001b[1;33m,\u001b[0m\u001b[0mcenters_per_beat\u001b[0m\u001b[1;33m,\u001b[0m\u001b[0mrange_per_beat\u001b[0m \u001b[1;33m=\u001b[0m \u001b[0moctave_transpose\u001b[0m\u001b[1;33m(\u001b[0m\u001b[0mnotes\u001b[0m\u001b[1;33m,\u001b[0m \u001b[0mtick_per_beat\u001b[0m\u001b[1;33m,\u001b[0m\u001b[1;36m3\u001b[0m\u001b[1;33m,\u001b[0m\u001b[1;36m6\u001b[0m\u001b[1;33m,\u001b[0m\u001b[0mmode\u001b[0m\u001b[1;33m=\u001b[0m\u001b[1;34m'normal'\u001b[0m\u001b[1;33m)\u001b[0m\u001b[1;33m\u001b[0m\u001b[1;33m\u001b[0m\u001b[0m\n\u001b[0m\u001b[0;32m    555\u001b[0m     \u001b[1;32mif\u001b[0m \u001b[0mmerge\u001b[0m\u001b[1;33m:\u001b[0m\u001b[1;33m\u001b[0m\u001b[1;33m\u001b[0m\u001b[0m\n\u001b[0;32m    556\u001b[0m         \u001b[0mnotes\u001b[0m \u001b[1;33m=\u001b[0m \u001b[0mmerge_discrete_note\u001b[0m\u001b[1;33m(\u001b[0m\u001b[0mnotes\u001b[0m\u001b[1;33m,\u001b[0m\u001b[0mtick_per_beat\u001b[0m\u001b[1;33m,\u001b[0m\u001b[0mmerge_threshold\u001b[0m\u001b[1;33m)\u001b[0m\u001b[1;33m\u001b[0m\u001b[1;33m\u001b[0m\u001b[0m\n",
      "\u001b[1;32mc:\\Users\\good6\\Documents\\GitHub\\fyp-piano-reduction\\postprocessing.py\u001b[0m in \u001b[0;36moctave_transpose\u001b[1;34m(transpose_notes, tick_per_beat, threshold, center_threshold, minmaxrange, mode, shiftbase, deletesparse)\u001b[0m\n\u001b[0;32m    289\u001b[0m     \u001b[0mmax_semitone_distance\u001b[0m\u001b[1;33m=\u001b[0m\u001b[0mthreshold\u001b[0m\u001b[1;33m\u001b[0m\u001b[1;33m\u001b[0m\u001b[0m\n\u001b[0;32m    290\u001b[0m \u001b[1;33m\u001b[0m\u001b[0m\n\u001b[1;32m--> 291\u001b[1;33m     \u001b[0mcenters_per_beat\u001b[0m\u001b[1;33m,\u001b[0m\u001b[0mrange_per_beat\u001b[0m \u001b[1;33m=\u001b[0m \u001b[0mget_centers_per_beat\u001b[0m\u001b[1;33m(\u001b[0m\u001b[0mtranspose_notes\u001b[0m\u001b[1;33m,\u001b[0m \u001b[0mtick_per_beat\u001b[0m\u001b[1;33m,\u001b[0m\u001b[0mcenter_threshold\u001b[0m\u001b[1;33m,\u001b[0m\u001b[0mmode\u001b[0m\u001b[1;33m=\u001b[0m\u001b[0mmode\u001b[0m\u001b[1;33m)\u001b[0m\u001b[1;33m\u001b[0m\u001b[1;33m\u001b[0m\u001b[0m\n\u001b[0m\u001b[0;32m    292\u001b[0m     \u001b[1;31m#use user provided range_per_beat\u001b[0m\u001b[1;33m\u001b[0m\u001b[1;33m\u001b[0m\u001b[1;33m\u001b[0m\u001b[0m\n\u001b[0;32m    293\u001b[0m     \u001b[1;32mif\u001b[0m \u001b[0mminmaxrange\u001b[0m \u001b[1;32mis\u001b[0m \u001b[1;32mnot\u001b[0m \u001b[1;32mNone\u001b[0m\u001b[1;33m:\u001b[0m\u001b[1;33m\u001b[0m\u001b[1;33m\u001b[0m\u001b[0m\n",
      "\u001b[1;32mc:\\Users\\good6\\Documents\\GitHub\\fyp-piano-reduction\\postprocessing.py\u001b[0m in \u001b[0;36mget_centers_per_beat\u001b[1;34m(notes, tick_per_beat, kernel_size, mode)\u001b[0m\n\u001b[0;32m    102\u001b[0m             \u001b[1;31m# visualization: distribution of notes inside the window\u001b[0m\u001b[1;33m\u001b[0m\u001b[1;33m\u001b[0m\u001b[1;33m\u001b[0m\u001b[0m\n\u001b[0;32m    103\u001b[0m             \u001b[1;31m# plot(pitch_range, kde_val)\u001b[0m\u001b[1;33m\u001b[0m\u001b[1;33m\u001b[0m\u001b[1;33m\u001b[0m\u001b[0m\n\u001b[1;32m--> 104\u001b[1;33m             \u001b[0mminima\u001b[0m\u001b[1;33m,\u001b[0m \u001b[0mmaxima\u001b[0m \u001b[1;33m=\u001b[0m \u001b[0margrelextrema\u001b[0m\u001b[1;33m(\u001b[0m\u001b[0mkde_val\u001b[0m\u001b[1;33m,\u001b[0m \u001b[0mnp\u001b[0m\u001b[1;33m.\u001b[0m\u001b[0mless\u001b[0m\u001b[1;33m)\u001b[0m\u001b[1;33m[\u001b[0m\u001b[1;36m0\u001b[0m\u001b[1;33m]\u001b[0m\u001b[1;33m,\u001b[0m \u001b[0margrelextrema\u001b[0m\u001b[1;33m(\u001b[0m\u001b[0mkde_val\u001b[0m\u001b[1;33m,\u001b[0m \u001b[0mnp\u001b[0m\u001b[1;33m.\u001b[0m\u001b[0mgreater\u001b[0m\u001b[1;33m)\u001b[0m\u001b[1;33m[\u001b[0m\u001b[1;36m0\u001b[0m\u001b[1;33m]\u001b[0m\u001b[1;33m\u001b[0m\u001b[1;33m\u001b[0m\u001b[0m\n\u001b[0m\u001b[0;32m    105\u001b[0m \u001b[1;33m\u001b[0m\u001b[0m\n\u001b[0;32m    106\u001b[0m \u001b[1;33m\u001b[0m\u001b[0m\n",
      "\u001b[1;32m~\\anaconda3-2\\envs\\fyp\\lib\\site-packages\\scipy\\signal\\_peak_finding.py\u001b[0m in \u001b[0;36margrelextrema\u001b[1;34m(data, comparator, axis, order, mode)\u001b[0m\n\u001b[0;32m    243\u001b[0m \u001b[1;33m\u001b[0m\u001b[0m\n\u001b[0;32m    244\u001b[0m     \"\"\"\n\u001b[1;32m--> 245\u001b[1;33m     results = _boolrelextrema(data, comparator,\n\u001b[0m\u001b[0;32m    246\u001b[0m                               axis, order, mode)\n\u001b[0;32m    247\u001b[0m     \u001b[1;32mreturn\u001b[0m \u001b[0mnp\u001b[0m\u001b[1;33m.\u001b[0m\u001b[0mnonzero\u001b[0m\u001b[1;33m(\u001b[0m\u001b[0mresults\u001b[0m\u001b[1;33m)\u001b[0m\u001b[1;33m\u001b[0m\u001b[1;33m\u001b[0m\u001b[0m\n",
      "\u001b[1;32m~\\anaconda3-2\\envs\\fyp\\lib\\site-packages\\scipy\\signal\\_peak_finding.py\u001b[0m in \u001b[0;36m_boolrelextrema\u001b[1;34m(data, comparator, axis, order, mode)\u001b[0m\n\u001b[0;32m     70\u001b[0m     \u001b[0mmain\u001b[0m \u001b[1;33m=\u001b[0m \u001b[0mdata\u001b[0m\u001b[1;33m.\u001b[0m\u001b[0mtake\u001b[0m\u001b[1;33m(\u001b[0m\u001b[0mlocs\u001b[0m\u001b[1;33m,\u001b[0m \u001b[0maxis\u001b[0m\u001b[1;33m=\u001b[0m\u001b[0maxis\u001b[0m\u001b[1;33m,\u001b[0m \u001b[0mmode\u001b[0m\u001b[1;33m=\u001b[0m\u001b[0mmode\u001b[0m\u001b[1;33m)\u001b[0m\u001b[1;33m\u001b[0m\u001b[1;33m\u001b[0m\u001b[0m\n\u001b[0;32m     71\u001b[0m     \u001b[1;32mfor\u001b[0m \u001b[0mshift\u001b[0m \u001b[1;32min\u001b[0m \u001b[0mrange\u001b[0m\u001b[1;33m(\u001b[0m\u001b[1;36m1\u001b[0m\u001b[1;33m,\u001b[0m \u001b[0morder\u001b[0m \u001b[1;33m+\u001b[0m \u001b[1;36m1\u001b[0m\u001b[1;33m)\u001b[0m\u001b[1;33m:\u001b[0m\u001b[1;33m\u001b[0m\u001b[1;33m\u001b[0m\u001b[0m\n\u001b[1;32m---> 72\u001b[1;33m         \u001b[0mplus\u001b[0m \u001b[1;33m=\u001b[0m \u001b[0mdata\u001b[0m\u001b[1;33m.\u001b[0m\u001b[0mtake\u001b[0m\u001b[1;33m(\u001b[0m\u001b[0mlocs\u001b[0m \u001b[1;33m+\u001b[0m \u001b[0mshift\u001b[0m\u001b[1;33m,\u001b[0m \u001b[0maxis\u001b[0m\u001b[1;33m=\u001b[0m\u001b[0maxis\u001b[0m\u001b[1;33m,\u001b[0m \u001b[0mmode\u001b[0m\u001b[1;33m=\u001b[0m\u001b[0mmode\u001b[0m\u001b[1;33m)\u001b[0m\u001b[1;33m\u001b[0m\u001b[1;33m\u001b[0m\u001b[0m\n\u001b[0m\u001b[0;32m     73\u001b[0m         \u001b[0mminus\u001b[0m \u001b[1;33m=\u001b[0m \u001b[0mdata\u001b[0m\u001b[1;33m.\u001b[0m\u001b[0mtake\u001b[0m\u001b[1;33m(\u001b[0m\u001b[0mlocs\u001b[0m \u001b[1;33m-\u001b[0m \u001b[0mshift\u001b[0m\u001b[1;33m,\u001b[0m \u001b[0maxis\u001b[0m\u001b[1;33m=\u001b[0m\u001b[0maxis\u001b[0m\u001b[1;33m,\u001b[0m \u001b[0mmode\u001b[0m\u001b[1;33m=\u001b[0m\u001b[0mmode\u001b[0m\u001b[1;33m)\u001b[0m\u001b[1;33m\u001b[0m\u001b[1;33m\u001b[0m\u001b[0m\n\u001b[0;32m     74\u001b[0m         \u001b[0mresults\u001b[0m \u001b[1;33m&=\u001b[0m \u001b[0mcomparator\u001b[0m\u001b[1;33m(\u001b[0m\u001b[0mmain\u001b[0m\u001b[1;33m,\u001b[0m \u001b[0mplus\u001b[0m\u001b[1;33m)\u001b[0m\u001b[1;33m\u001b[0m\u001b[1;33m\u001b[0m\u001b[0m\n",
      "\u001b[1;31mKeyboardInterrupt\u001b[0m: "
     ]
    }
   ],
   "source": [
    "target_dir = \"./objective_eval/algo_processed/\"\n",
    "import os\n",
    "for file in files:\n",
    "    outpath = target_dir + os.path.basename(file)\n",
    "    postprocess(file,outpath)"
   ]
  },
  {
   "cell_type": "code",
   "execution_count": null,
   "metadata": {},
   "outputs": [],
   "source": [
    "files = glob.glob(\"./objective_eval/cyclegan_unprocessed/*.mid\")\n",
    "target_dir = \"./objective_eval/cyclegan_processed/\"\n",
    "for file in files:\n",
    "    outpath = target_dir + os.path.basename(file)\n",
    "    postprocess(file,outpath)"
   ]
  },
  {
   "cell_type": "code",
   "execution_count": null,
   "metadata": {},
   "outputs": [],
   "source": [
    "files = glob.glob(\"./objective_eval/bertr2f_unprocessed/*.mid\")\n",
    "target_dir = \"./objective_eval/bertr2f_processed/\"\n",
    "for file in files:\n",
    "    outpath = target_dir + os.path.basename(file)\n",
    "    postprocess(file,outpath)"
   ]
  },
  {
   "cell_type": "code",
   "execution_count": null,
   "metadata": {},
   "outputs": [],
   "source": [
    "files = glob.glob(\"./objective_eval/bertreduction_unprocessed/*.mid\")\n",
    "target_dir = \"./objective_eval/bertreduction_processed/\"\n",
    "for file in files:\n",
    "    outpath = target_dir + os.path.basename(file)\n",
    "    postprocess(file,outpath)"
   ]
  },
  {
   "cell_type": "code",
   "execution_count": null,
   "metadata": {},
   "outputs": [],
   "source": [
    "from miditoolkit.midi import parser as mid_parser  \n",
    "import numpy as np\n",
    "def load_midi_post(path):\n",
    "    mido_obj=mid_parser.MidiFile(path)\n",
    "    tick_per_beat = mido_obj.ticks_per_beat\n",
    "    note_rh, note_lh, note_total = [],[],[]\n",
    "    for note in mido_obj.instruments[0].notes:\n",
    "        note_rh.append(note)\n",
    "        note_total.append(note)\n",
    "    if len(mido_obj.instruments) == 1:\n",
    "        return note_total,note_rh,note_rh,tick_per_beat\n",
    "    for note in mido_obj.instruments[1].notes:\n",
    "        note_lh.append(note)\n",
    "        note_total.append(note)\n",
    "\n",
    "    note_total = sorted(note_total,key=lambda x: x.start)\n",
    "    return note_total,note_lh,note_rh,tick_per_beat\n",
    "\n",
    "def load_midi(path):\n",
    "    mido_obj=mid_parser.MidiFile(path)\n",
    "    tick_per_beat = mido_obj.ticks_per_beat\n",
    "    note_total = []\n",
    "    for inst in mido_obj.instruments:\n",
    "        if inst.is_drum:\n",
    "            continue\n",
    "        for note in inst.notes:\n",
    "            note_total.append(note)\n",
    "    note_total = sorted(note_total,key=lambda x: x.start)\n",
    "    return note_total,tick_per_beat"
   ]
  },
  {
   "cell_type": "code",
   "execution_count": null,
   "metadata": {},
   "outputs": [],
   "source": [
    "from eval_utils import skyline,roughness,is_intersect\n",
    "import numpy as np\n",
    "def dissonance_metric(notetotal,tpb):\n",
    "    note_skyline = skyline(notetotal,0)\n",
    "    current_min = 0\n",
    "    rough, weight = [], []\n",
    "    for note in note_skyline:\n",
    "        current_min = note.start\n",
    "        to_remove = []\n",
    "        considered = []\n",
    "        for i,note2 in enumerate(notetotal):\n",
    "            if note2.end < current_min:\n",
    "                to_remove.append(i)\n",
    "            if note2.start > note.end:\n",
    "                break\n",
    "            if note != note2 and is_intersect((note2.start,note2.end),(note.start,note.end)):\n",
    "                considered.append(note2)\n",
    "        to_remove = sorted(to_remove,reverse=True)\n",
    "        for idx in to_remove:\n",
    "            notetotal.pop(idx)\n",
    "        if len(considered) < 2:\n",
    "            continue\n",
    "        r = roughness(considered)\n",
    "        rough.append(r)\n",
    "        weight.append((note.end-note.start)/tpb)\n",
    "    rough = np.array(rough)\n",
    "    weight = np.array(weight)\n",
    "    if len(rough) == 0:\n",
    "        tonalsim = 0\n",
    "    else:\n",
    "        dissonance = np.dot(rough,weight) / np.sum(weight)\n",
    "    print(f\"The amount of dissonance is calculated to be {dissonance:.2f}.\")\n",
    "    return dissonance"
   ]
  },
  {
   "cell_type": "code",
   "execution_count": null,
   "metadata": {},
   "outputs": [],
   "source": [
    "from eval_utils import is_intersect,cosine_similarity\n",
    "\n",
    "def tonal_distance(ppath,opath):\n",
    "    DEFAULT_RESOLUTION = 24\n",
    "    add_step = DEFAULT_RESOLUTION\n",
    "    sliding_window = [0,add_step*2]\n",
    "    piano, tpbp = load_midi(ppath)\n",
    "    orch, tpbo = load_midi(opath)\n",
    "\n",
    "    #update tpb\n",
    "    for note in piano: #seems it knows to update in_place\n",
    "        note.start = int(note.start/tpbp*DEFAULT_RESOLUTION)\n",
    "        note.end = int(note.end/tpbp*DEFAULT_RESOLUTION)\n",
    "    for note in orch:\n",
    "        note.start = int(note.start/tpbo*DEFAULT_RESOLUTION)\n",
    "        note.end = int(note.end/tpbo*DEFAULT_RESOLUTION)\n",
    "\n",
    "    dists = []\n",
    "    while len(piano) != 0:\n",
    "        considered_piano = np.zeros(shape=(12))\n",
    "        considered_orch = np.zeros(shape=(12))\n",
    "        to_remove_piano = []\n",
    "        to_remove_orch = []\n",
    "        hv_note_p = False\n",
    "        hv_note_o = False\n",
    "        for i,pnote in enumerate(piano):\n",
    "            if pnote.end < sliding_window[0]:\n",
    "                to_remove_piano.append(i)\n",
    "            if pnote.start > sliding_window[1]:\n",
    "                break\n",
    "            if is_intersect(sliding_window,(pnote.start,pnote.end)):\n",
    "                #insert a tuple for consideration (duration,pitch_class)\n",
    "                hv_note_p = True\n",
    "                s = max(sliding_window[0],pnote.start)\n",
    "                e = min(sliding_window[1],pnote.end)\n",
    "                dur = e-s\n",
    "                assert dur >= 0\n",
    "                considered_piano[pnote.pitch%12] += dur\n",
    "        to_remove_piano = sorted(to_remove_piano,reverse=True)\n",
    "        for idx in to_remove_piano:\n",
    "            piano.pop(idx)\n",
    "        for i,onote in enumerate(orch):\n",
    "            if onote.end < sliding_window[0]:\n",
    "                to_remove_orch.append(i)\n",
    "            if onote.start > sliding_window[1]:\n",
    "                break\n",
    "            if is_intersect(sliding_window,(onote.start,onote.end)):\n",
    "                #insert a tuple for consideration (duration,pitch_class)\n",
    "                hv_note_o = True\n",
    "                s = max(sliding_window[0],onote.start)\n",
    "                e = min(sliding_window[1],onote.end)\n",
    "                dur = e-s\n",
    "                assert dur >= 0\n",
    "                considered_orch[onote.pitch%12] += dur\n",
    "        to_remove_orch = sorted(to_remove_orch,reverse=True)\n",
    "        for idx in to_remove_orch:\n",
    "            orch.pop(idx)\n",
    "        if hv_note_p and hv_note_o:\n",
    "            sim = cosine_similarity(considered_piano,considered_orch)\n",
    "            dists.append(sim)\n",
    "        sliding_window[0] += add_step\n",
    "        sliding_window[1] += add_step\n",
    "    dists = np.array(dists)\n",
    "    print(f\"Cosine Similarity: Max {np.max(dists):.2f} Min {np.min(dists):.2f} Mean {np.mean(dists):.2f} SD {np.std(dists):.2f}\")\n",
    "    return np.mean(dists)"
   ]
  },
  {
   "cell_type": "code",
   "execution_count": null,
   "metadata": {},
   "outputs": [],
   "source": [
    "algo_dissonance = []\n",
    "cyclegan_dissonance = []\n",
    "bertr2f_dissonance = []\n",
    "bertreduction_dissonance = []\n",
    "\n",
    "for file in glob.glob(\"./objective_eval/algo_processed/*.mid\"):\n",
    "    notes,tpb =  load_midi(file)\n",
    "    algo_dissonance.append(dissonance_metric(notes.copy(),tpb))\n",
    "\n",
    "for file in glob.glob(\"./objective_eval/cyclegan_processed/*.mid\"):\n",
    "    notes,tpb =  load_midi(file)\n",
    "    cyclegan_dissonance.append(dissonance_metric(notes.copy(),tpb))\n",
    "\n",
    "for file in glob.glob(\"./objective_eval/bertr2f_processed/*.mid\"):\n",
    "    notes,tpb =  load_midi(file)\n",
    "    bertr2f_dissonance.append(dissonance_metric(notes.copy(),tpb))\n",
    "\n",
    "for file in glob.glob(\"./objective_eval/bertreduction_processed/*.mid\"):\n",
    "    notes,tpb =  load_midi(file)\n",
    "    bertreduction_dissonance.append(dissonance_metric(notes.copy(),tpb))\n",
    "\n"
   ]
  },
  {
   "cell_type": "code",
   "execution_count": null,
   "metadata": {},
   "outputs": [],
   "source": [
    "algo_tonalsim = []\n",
    "cyclegan_tonalsim = []\n",
    "bertr2f_tonalsim = []\n",
    "bertreduction_tonalsim = []\n",
    "\n",
    "for file in glob.glob(\"./objective_eval/algo_processed/*.mid\"):\n",
    "    ofile = \"./objective_eval/\" + os.path.basename(file)\n",
    "    algo_tonalsim.append(tonal_distance(file,ofile))\n",
    "\n",
    "for file in glob.glob(\"./objective_eval/cyclegan_processed/*.mid\"):\n",
    "    ofile = \"./objective_eval/\" + os.path.basename(file)\n",
    "    cyclegan_tonalsim.append(tonal_distance(file,ofile))\n",
    "\n",
    "for file in glob.glob(\"./objective_eval/bertr2f_processed/*.mid\"):\n",
    "    ofile = \"./objective_eval/\" + os.path.basename(file)\n",
    "    bertr2f_tonalsim.append(tonal_distance(file,ofile))\n",
    "\n",
    "for file in glob.glob(\"./objective_eval/bertreduction_processed/*.mid\"):\n",
    "    nofile = \"./objective_eval/\" + os.path.basename(file)\n",
    "    bertreduction_tonalsim.append(tonal_distance(file,ofile))\n",
    "\n"
   ]
  },
  {
   "cell_type": "code",
   "execution_count": 5,
   "metadata": {},
   "outputs": [
    {
     "ename": "SyntaxError",
     "evalue": "EOL while scanning string literal (Temp/ipykernel_30156/1737280574.py, line 6)",
     "output_type": "error",
     "traceback": [
      "\u001b[1;36m  File \u001b[1;32m\"C:\\Users\\good6\\AppData\\Local\\Temp/ipykernel_30156/1737280574.py\"\u001b[1;36m, line \u001b[1;32m6\u001b[0m\n\u001b[1;33m    \"algo_tonalsim : algo_tonalsim\u001b[0m\n\u001b[1;37m                                  ^\u001b[0m\n\u001b[1;31mSyntaxError\u001b[0m\u001b[1;31m:\u001b[0m EOL while scanning string literal\n"
     ]
    }
   ],
   "source": [
    "out = {\n",
    "    \"algo_dissonance\" : algo_dissonance,\n",
    "    \"cyclegan_dissonance\" :cyclegan_dissonance,\n",
    "    \"bertr2f_dissonance\" : bertr2f_dissonance,\n",
    "    \"bertreduction_dissonance\" : bertreduction_dissonance,\n",
    "    \"algo_tonalsim\" : algo_tonalsim,\n",
    "    \"cyclegan_tonalsim\" : cyclegan_tonalsim,\n",
    "    \"bertr2f_tonalsim\" : bertr2f_tonalsim,\n",
    "    \"bertreduction_tonalsim\" : bertreduction_tonalsim\n",
    "    }\n",
    "\n",
    "import pickle\n",
    "with open('evalall.pickle','wb') as f:\n",
    "    pickle.dump(out,f)"
   ]
  },
  {
   "cell_type": "code",
   "execution_count": null,
   "metadata": {},
   "outputs": [],
   "source": []
  }
 ],
 "metadata": {
  "interpreter": {
   "hash": "f90a8f327bbf957d1d138e454cc509f13d39a72e7837f7d98e02c25d0e3059a9"
  },
  "kernelspec": {
   "display_name": "Python 3.8.10 ('fyp')",
   "language": "python",
   "name": "python3"
  },
  "language_info": {
   "codemirror_mode": {
    "name": "ipython",
    "version": 3
   },
   "file_extension": ".py",
   "mimetype": "text/x-python",
   "name": "python",
   "nbconvert_exporter": "python",
   "pygments_lexer": "ipython3",
   "version": "3.8.10"
  },
  "orig_nbformat": 4
 },
 "nbformat": 4,
 "nbformat_minor": 2
}
