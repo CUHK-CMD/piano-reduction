{
 "cells": [
  {
   "cell_type": "markdown",
   "metadata": {},
   "source": [
    "# 1. Collect Data"
   ]
  },
  {
   "cell_type": "code",
   "execution_count": 4,
   "metadata": {},
   "outputs": [],
   "source": [
    "class Note:\n",
    "    def __init__(self,s,i,v):\n",
    "        self.start = s\n",
    "        self.relative_interval = i\n",
    "        self.duration = v #duration\n",
    "\n",
    "\n",
    "class Accompany:\n",
    "    def __init__(self,num=4,den=4,notelist=[],classjson=None):\n",
    "        if classjson is None:\n",
    "            self.numerator = num\n",
    "            self.denominator = den\n",
    "            self.notelist = notelist\n",
    "        else:\n",
    "            self.numerator = classjson[\"numerator\"]\n",
    "            self.denominator = classjson[\"denominator\"]\n",
    "            self.notelist = classjson['notes']\n",
    "    \n",
    "    def export_dict(self):\n",
    "        tmp = dict()\n",
    "        tmp['numerator'] = self.numerator\n",
    "        tmp['denominator'] = self.denominator\n",
    "        tmp['notes'] = []\n",
    "        for notes in self.notelist:\n",
    "            tmp2 = dict()\n",
    "            tmp2['s'] = notes.start\n",
    "            tmp2['i'] = notes.relative_interval\n",
    "            tmp2['d'] = notes.duration\n",
    "            tmp['notes'].append(tmp2)\n",
    "        return tmp\n",
    "\n",
    "    def add_notes(self,n:Note):\n",
    "        self.notelist.append(n)"
   ]
  },
  {
   "cell_type": "code",
   "execution_count": 5,
   "metadata": {},
   "outputs": [],
   "source": [
    "def notes_bar_processing(notes,tpb,num,den):\n",
    "    #find min pitch\n",
    "    min_pitch = 128\n",
    "    min_time = 1e30\n",
    "    for note in notes:\n",
    "        if note.pitch < min_pitch:\n",
    "            min_pitch = note.pitch\n",
    "        if note.start < min_time:\n",
    "            min_time = note.start\n",
    "    accom = Accompany(num=num,den=den,notelist=[])\n",
    "    for note in notes:\n",
    "        start = (note.start-min_time)/tpb\n",
    "        rpitch = note.pitch - min_pitch\n",
    "        dur = (note.end-note.start)/tpb\n",
    "        accom.add_notes(Note(start,rpitch,dur))\n",
    "    return accom\n",
    "    #then just construct everything from ehre\n",
    "    #note.start\n",
    "    #note.end\n",
    "    #note.pitch\n",
    "    "
   ]
  },
  {
   "cell_type": "code",
   "execution_count": 6,
   "metadata": {},
   "outputs": [
    {
     "name": "stdout",
     "output_type": "stream",
     "text": [
      "../data/nice_format\\alb_esp3.mid has more than one time signature change hence it will not be processed for now.\n",
      "../data/nice_format\\alb_esp5.mid has more than one time signature change hence it will not be processed for now.\n",
      "../data/nice_format\\beethoven_hammerklavier_2.mid has more than one time signature change hence it will not be processed for now.\n",
      "../data/nice_format\\beethoven_hammerklavier_4.mid has more than one time signature change hence it will not be processed for now.\n",
      "../data/nice_format\\beethoven_les_adieux_1.mid has more than one time signature change hence it will not be processed for now.\n",
      "../data/nice_format\\beethoven_opus10_3.mid has more than one time signature change hence it will not be processed for now.\n",
      "../data/nice_format\\bor_ps5.mid has more than one time signature change hence it will not be processed for now.\n",
      "../data/nice_format\\brahms_opus1_2.mid has more than one time signature change hence it will not be processed for now.\n",
      "../data/nice_format\\brahms_opus1_3.mid has more than one time signature change hence it will not be processed for now.\n",
      "../data/nice_format\\brahms_opus1_4.mid has more than one time signature change hence it will not be processed for now.\n",
      "../data/nice_format\\br_im2.mid has more than one time signature change hence it will not be processed for now.\n",
      "../data/nice_format\\chpn-p18.mid has more than one time signature change hence it will not be processed for now.\n",
      "../data/nice_format\\chpn_op23.mid has more than one time signature change hence it will not be processed for now.\n",
      "../data/nice_format\\chpn_op25_e11.mid has more than one time signature change hence it will not be processed for now.\n",
      "../data/nice_format\\chpn_op25_e2.mid has more than one time signature change hence it will not be processed for now.\n",
      "../data/nice_format\\chpn_op27_1.mid has more than one time signature change hence it will not be processed for now.\n",
      "../data/nice_format\\chpn_op27_2.mid has more than one time signature change hence it will not be processed for now.\n",
      "../data/nice_format\\chpn_op35_1.mid has more than one time signature change hence it will not be processed for now.\n",
      "../data/nice_format\\chpn_op53.mid has more than one time signature change hence it will not be processed for now.\n",
      "../data/nice_format\\chp_op18.mid has more than one time signature change hence it will not be processed for now.\n",
      "../data/nice_format\\debussy_cc_4.mid has more than one time signature change hence it will not be processed for now.\n",
      "../data/nice_format\\god_alb_esp2.mid has more than one time signature change hence it will not be processed for now.\n",
      "../data/nice_format\\gra_esp_2.mid has more than one time signature change hence it will not be processed for now.\n",
      "../data/nice_format\\gra_esp_4.mid has more than one time signature change hence it will not be processed for now.\n",
      "../data/nice_format\\grieg_berceuse.mid has more than one time signature change hence it will not be processed for now.\n",
      "../data/nice_format\\grieg_brooklet.mid has more than one time signature change hence it will not be processed for now.\n",
      "../data/nice_format\\grieg_once_upon_a_time.mid has more than one time signature change hence it will not be processed for now.\n",
      "../data/nice_format\\grieg_wedding.mid has more than one time signature change hence it will not be processed for now.\n",
      "../data/nice_format\\islamei.mid has more than one time signature change hence it will not be processed for now.\n",
      "../data/nice_format\\liz_donjuan.mid has more than one time signature change hence it will not be processed for now.\n",
      "../data/nice_format\\liz_et1.mid has more than one time signature change hence it will not be processed for now.\n",
      "../data/nice_format\\liz_et2.mid has more than one time signature change hence it will not be processed for now.\n",
      "../data/nice_format\\liz_et3.mid has more than one time signature change hence it will not be processed for now.\n",
      "../data/nice_format\\liz_et6.mid has more than one time signature change hence it will not be processed for now.\n",
      "../data/nice_format\\liz_et_trans4.mid has more than one time signature change hence it will not be processed for now.\n",
      "../data/nice_format\\liz_et_trans8.mid has more than one time signature change hence it will not be processed for now.\n",
      "../data/nice_format\\liz_liebestraum.mid has more than one time signature change hence it will not be processed for now.\n",
      "../data/nice_format\\liz_rhap02.mid has more than one time signature change hence it will not be processed for now.\n",
      "../data/nice_format\\liz_rhap09.mid has more than one time signature change hence it will not be processed for now.\n",
      "../data/nice_format\\liz_rhap10.mid has more than one time signature change hence it will not be processed for now.\n",
      "../data/nice_format\\liz_rhap12.mid has more than one time signature change hence it will not be processed for now.\n",
      "../data/nice_format\\liz_rhap15.mid has more than one time signature change hence it will not be processed for now.\n",
      "../data/nice_format\\mond_3.mid has more than one time signature change hence it will not be processed for now.\n",
      "../data/nice_format\\muss_1.mid has more than one time signature change hence it will not be processed for now.\n",
      "../data/nice_format\\muss_2.mid has more than one time signature change hence it will not be processed for now.\n",
      "../data/nice_format\\muss_3.mid has more than one time signature change hence it will not be processed for now.\n",
      "../data/nice_format\\muss_5.mid has more than one time signature change hence it will not be processed for now.\n",
      "../data/nice_format\\muss_6.mid has more than one time signature change hence it will not be processed for now.\n",
      "../data/nice_format\\muss_7.mid has more than one time signature change hence it will not be processed for now.\n",
      "../data/nice_format\\muss_8.mid has more than one time signature change hence it will not be processed for now.\n",
      "../data/nice_format\\mz_311_3.mid has more than one time signature change hence it will not be processed for now.\n",
      "../data/nice_format\\mz_331_1.mid has more than one time signature change hence it will not be processed for now.\n",
      "../data/nice_format\\mz_333_3.mid has more than one time signature change hence it will not be processed for now.\n",
      "../data/nice_format\\pathetique_1.mid has more than one time signature change hence it will not be processed for now.\n",
      "../data/nice_format\\pathetique_2.mid has more than one time signature change hence it will not be processed for now.\n",
      "../data/nice_format\\rac_op23_2.mid has more than one time signature change hence it will not be processed for now.\n",
      "../data/nice_format\\rac_op23_5.mid has more than one time signature change hence it will not be processed for now.\n",
      "../data/nice_format\\rac_op32_1.mid has more than one time signature change hence it will not be processed for now.\n",
      "../data/nice_format\\rac_op32_13.mid has more than one time signature change hence it will not be processed for now.\n",
      "../data/nice_format\\rac_op33_5.mid has more than one time signature change hence it will not be processed for now.\n",
      "../data/nice_format\\rac_op33_6.mid has more than one time signature change hence it will not be processed for now.\n",
      "../data/nice_format\\rac_op33_8.mid has more than one time signature change hence it will not be processed for now.\n",
      "../data/nice_format\\ravel_miroirs_1.mid has more than one time signature change hence it will not be processed for now.\n",
      "../data/nice_format\\rav_eau.mid has more than one time signature change hence it will not be processed for now.\n",
      "../data/nice_format\\rav_gib.mid has more than one time signature change hence it will not be processed for now.\n",
      "../data/nice_format\\rav_ondi.mid has more than one time signature change hence it will not be processed for now.\n",
      "../data/nice_format\\rav_scarbo.mid has more than one time signature change hence it will not be processed for now.\n",
      "../data/nice_format\\schum_abegg.mid has more than one time signature change hence it will not be processed for now.\n",
      "../data/nice_format\\scn15_13.mid has more than one time signature change hence it will not be processed for now.\n",
      "../data/nice_format\\scn16_2.mid has more than one time signature change hence it will not be processed for now.\n",
      "../data/nice_format\\scn16_6.mid has more than one time signature change hence it will not be processed for now.\n",
      "../data/nice_format\\ty_juni.mid has more than one time signature change hence it will not be processed for now.\n",
      "../data/nice_format\\ty_mai.mid has more than one time signature change hence it will not be processed for now.\n",
      "../data/nice_format\\waldstein_3.mid has more than one time signature change hence it will not be processed for now.\n",
      "30031\n",
      "{'numerator': 3, 'denominator': 4, 'notes': [{'s': 0.0, 'i': 0, 'd': 0.5}, {'s': 0.5, 'i': 7, 'd': 2.0}]}\n"
     ]
    }
   ],
   "source": [
    "import glob\n",
    "from miditoolkit.midi import parser as mid_parser  \n",
    "from miditoolkit.midi import containers as ct\n",
    "\n",
    "\n",
    "database = []\n",
    "for midifile in glob.glob(\"../data/nice_format/*.mid\"): #Replace it with your own directory\n",
    "    mido = mid_parser.MidiFile(midifile)\n",
    "    # print(mido.time_signature_changes)\n",
    "    if len(mido.time_signature_changes) > 1:\n",
    "        print(f\"{midifile} has more than one time signature change hence it will not be processed for now.\")\n",
    "        #TODO: how to deal with time siganture changes?\n",
    "        # print(mido.time_signature_changes)\n",
    "        # print(mido.ticks_per_beat)\n",
    "        continue\n",
    "    tpb = mido.ticks_per_beat\n",
    "    numerator = mido.time_signature_changes[0].numerator\n",
    "    denominator = mido.time_signature_changes[0].denominator\n",
    "    # print(tpb)\n",
    "    idx = -1\n",
    "    for i,inst in enumerate(mido.instruments):\n",
    "        if inst.name.find(\"left\") != -1 or inst.name.find(\"Left\") != 1:\n",
    "            idx = i\n",
    "            break\n",
    "    if idx == -1:\n",
    "        print(f\"{midifile} may not have left channel, please check.\")\n",
    "        continue\n",
    "    add_interval = tpb*numerator\n",
    "    current_tick = tpb*numerator     \n",
    "    notelist = []\n",
    "    tmp_notelist = []\n",
    "    for note in mido.instruments[idx].notes:\n",
    "        if note.start < current_tick:\n",
    "            if note.end > current_tick:\n",
    "                tmp_notelist.append(ct.Note(start=current_tick,end=note.end,pitch=note.pitch,velocity=note.velocity))\n",
    "                notelist.append(ct.Note(start=note.start,end=current_tick,pitch=note.pitch,velocity=note.velocity))\n",
    "            else:\n",
    "                notelist.append(note)\n",
    "        else:\n",
    "            database.append(notes_bar_processing(notelist,tpb,numerator,denominator))\n",
    "            notelist = []\n",
    "            current_tick += add_interval\n",
    "            tmp2 = []\n",
    "            for note2 in tmp_notelist:\n",
    "                if note2.end > current_tick:\n",
    "                    tmp2.append(ct.Note(start=current_tick,end=note2.end,pitch=note2.pitch,velocity=note2.velocity))\n",
    "                    notelist.append(ct.Note(start=note2.start,end=current_tick,pitch=note2.pitch,velocity=note2.velocity))\n",
    "                else:\n",
    "                    notelist.append(note2)\n",
    "            tmp_notelist = tmp2\n",
    "            #add here the last bars\n",
    "    database.append(notes_bar_processing(notelist,tpb,numerator,denominator))\n",
    "\n",
    "print(len(database))\n",
    "print(database[0].export_dict())"
   ]
  },
  {
   "cell_type": "code",
   "execution_count": 7,
   "metadata": {},
   "outputs": [
    {
     "data": {
      "text/plain": [
       "{'3/4': 9243,\n",
       " '2/4': 7038,\n",
       " '5/8': 57,\n",
       " '3/8': 1806,\n",
       " '6/8': 1573,\n",
       " '12/8': 132,\n",
       " '4/4': 9041,\n",
       " '4/8': 285,\n",
       " '9/8': 141,\n",
       " '2/8': 46,\n",
       " '6/4': 250,\n",
       " '2/2': 153,\n",
       " '6/16': 32,\n",
       " '3/16': 92,\n",
       " '8/4': 142}"
      ]
     },
     "execution_count": 7,
     "metadata": {},
     "output_type": "execute_result"
    }
   ],
   "source": [
    "# Analysis of different TS frequencies\n",
    "frequency = dict()\n",
    "for records in database:\n",
    "    ks = str(records.numerator) +\"/\" + str(records.denominator)\n",
    "    if ks in frequency:\n",
    "        frequency[ks] += 1\n",
    "    else:\n",
    "        frequency[ks] = 1\n",
    "frequency"
   ]
  },
  {
   "cell_type": "markdown",
   "metadata": {},
   "source": [
    "# 2. Extract Rhythm of the piece"
   ]
  },
  {
   "cell_type": "code",
   "execution_count": 12,
   "metadata": {},
   "outputs": [],
   "source": [
    "piece = \"../aligned/aligned/hand_picked_spotify-51/orchestra.mid\""
   ]
  },
  {
   "cell_type": "code",
   "execution_count": 22,
   "metadata": {},
   "outputs": [
    {
     "name": "stdout",
     "output_type": "stream",
     "text": [
      "[4, 8, 12, 13]\n"
     ]
    }
   ],
   "source": [
    "#Find channel with lowest pitch (Now: basically channels using bass clef, any better way?)\n",
    "mido_obj = mid_parser.MidiFile(piece)\n",
    "minpitch = 129\n",
    "chosen_channel = []\n",
    "for idx, inst in enumerate(mido_obj.instruments):\n",
    "    if inst.is_drum:\n",
    "        continue\n",
    "    total_pitch = 0\n",
    "    total_note = 0\n",
    "    for note in inst.notes:\n",
    "        total_pitch += note.pitch\n",
    "        total_note += 1\n",
    "    avg_pitch = total_pitch/total_note\n",
    "    # print(idx,avg_pitch)\n",
    "    if avg_pitch <= 54:\n",
    "        chosen_channel.append(idx)\n",
    "print(chosen_channel)"
   ]
  },
  {
   "cell_type": "code",
   "execution_count": 23,
   "metadata": {},
   "outputs": [
    {
     "ename": "SyntaxError",
     "evalue": "unexpected EOF while parsing (Temp/ipykernel_17204/1693636642.py, line 3)",
     "output_type": "error",
     "traceback": [
      "\u001b[1;36m  File \u001b[1;32m\"C:\\Users\\good6\\AppData\\Local\\Temp/ipykernel_17204/1693636642.py\"\u001b[1;36m, line \u001b[1;32m3\u001b[0m\n\u001b[1;33m    for channels in chosen_channel:\u001b[0m\n\u001b[1;37m                                   ^\u001b[0m\n\u001b[1;31mSyntaxError\u001b[0m\u001b[1;31m:\u001b[0m unexpected EOF while parsing\n"
     ]
    }
   ],
   "source": [
    "#Sanity CHeck\n",
    "final_notelist = []\n",
    "tpb = mido_obj.ticks_per_beat\n",
    "class noteMidi:\n",
    "    def __init__(self,p,s,e):\n",
    "        self.pitch = p\n",
    "        self.onset = s\n",
    "        self.offset = e\n",
    "for channel in chosen_channel:\n",
    "    for note in mido_obj.instruments[channel].notes:\n",
    "        final_notelist.append(noteMidi(note.pitch,note.start,note.end))\n",
    "mido_out = mid_parser.MidiFile()\n",
    "mido_out.ticks_per_beat = tpb\n",
    "track = ct.Instrument(program=0,is_drum=False,name='example track')\n",
    "mido_out.instruments = [track]\n",
    "for note in final_notelist:\n",
    "    mido_out.instruments[0].notes.append(ct.Note(start=note.onset,end=note.offset,pitch=note.pitch,velocity=30))\n",
    "mido_out.dump(\"result.mid\")"
   ]
  },
  {
   "cell_type": "code",
   "execution_count": null,
   "metadata": {},
   "outputs": [],
   "source": []
  },
  {
   "cell_type": "code",
   "execution_count": null,
   "metadata": {},
   "outputs": [],
   "source": [
    "#/16 split for each bar"
   ]
  },
  {
   "cell_type": "markdown",
   "metadata": {},
   "source": [
    "# 3. Extract Chord information"
   ]
  },
  {
   "cell_type": "code",
   "execution_count": null,
   "metadata": {},
   "outputs": [],
   "source": [
    "#Use the ipervious built thing"
   ]
  },
  {
   "cell_type": "markdown",
   "metadata": {},
   "source": [
    "# 4. build the rest of the things!"
   ]
  },
  {
   "cell_type": "code",
   "execution_count": null,
   "metadata": {},
   "outputs": [],
   "source": [
    "import sys\n",
    "sys.path.append(\"../melody_extraction\")\n",
    "from skyline import skyline_melody"
   ]
  },
  {
   "cell_type": "code",
   "execution_count": null,
   "metadata": {},
   "outputs": [],
   "source": [
    "'''\n",
    "for each bar in the selected bass track:\n",
    "    find a record in db with same time signature and nearest note\n",
    "    then, do harmonization based on the chord\n",
    "    then insert the notes to the midi\n",
    "    then combine with the melody obtained from skyline!! Yeah.\n",
    "    #Try on self zoked melody first\n",
    "'''"
   ]
  }
 ],
 "metadata": {
  "interpreter": {
   "hash": "f90a8f327bbf957d1d138e454cc509f13d39a72e7837f7d98e02c25d0e3059a9"
  },
  "kernelspec": {
   "display_name": "Python 3.8.10 64-bit ('fyp': conda)",
   "language": "python",
   "name": "python3"
  },
  "language_info": {
   "codemirror_mode": {
    "name": "ipython",
    "version": 3
   },
   "file_extension": ".py",
   "mimetype": "text/x-python",
   "name": "python",
   "nbconvert_exporter": "python",
   "pygments_lexer": "ipython3",
   "version": "3.8.10"
  },
  "orig_nbformat": 4
 },
 "nbformat": 4,
 "nbformat_minor": 2
}
