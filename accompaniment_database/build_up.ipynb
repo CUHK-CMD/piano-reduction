{
 "cells": [
  {
   "cell_type": "markdown",
   "metadata": {},
   "source": [
    "# 1. Collect Data"
   ]
  },
  {
   "cell_type": "code",
   "execution_count": 98,
   "metadata": {},
   "outputs": [],
   "source": [
    "import numpy as np\n",
    "class Note:\n",
    "    def __init__(self,s,i,v):\n",
    "        self.start = s\n",
    "        self.relative_interval = i\n",
    "        self.duration = v #duration\n",
    "\n",
    "\n",
    "class Accompany:\n",
    "    def __init__(self,num=4,den=4,notelist=[],classjson=None):\n",
    "        if classjson is None:\n",
    "            self.numerator = num\n",
    "            self.denominator = den\n",
    "            self.notelist = notelist\n",
    "        else:\n",
    "            self.numerator = classjson[\"numerator\"]\n",
    "            self.denominator = classjson[\"denominator\"]\n",
    "            self.notelist = classjson['notes']\n",
    "    \n",
    "    def export_dict(self):\n",
    "        self.calculate_rhythm()\n",
    "        tmp = dict()\n",
    "        tmp['numerator'] = self.numerator\n",
    "        tmp['denominator'] = self.denominator\n",
    "        tmp['notes'] = []\n",
    "        for notes in self.notelist:\n",
    "            tmp2 = dict()\n",
    "            tmp2['s'] = notes.start\n",
    "            tmp2['i'] = notes.relative_interval\n",
    "            tmp2['d'] = notes.duration\n",
    "            tmp['notes'].append(tmp2)\n",
    "        tmp['rhythm'] = self.rhythm\n",
    "        return tmp\n",
    "\n",
    "    def add_notes(self,n:Note):\n",
    "        self.notelist.append(n)\n",
    "    \n",
    "    def calculate_rhythm(self):\n",
    "        total_duration = self.numerator * (0.5 ** (math.log(self.denominator,2)-2)) #number of quarter notes\n",
    "        self.rhythm = [0 for _ in range(24)]\n",
    "        interval = total_duration / 24\n",
    "        rhythmtime = [i*interval for i in range(24)]\n",
    "        for note in self.notelist:\n",
    "            onset = note.start\n",
    "            idx,val = self.find_closest(rhythmtime,onset)\n",
    "            if val < interval/2:\n",
    "                self.rhythm[idx] = 1\n",
    "\n",
    "    def find_closest(self,arr,val):\n",
    "        newlist = [abs(x-val) for x in arr]\n",
    "        return np.argmin(newlist),np.min(newlist)"
   ]
  },
  {
   "cell_type": "code",
   "execution_count": 99,
   "metadata": {},
   "outputs": [],
   "source": [
    "def notes_bar_processing(notes,begin_tick,tpb,num,den):\n",
    "    #find min pitch\n",
    "    min_pitch = 128\n",
    "    for note in notes:\n",
    "        if note.pitch < min_pitch:\n",
    "            min_pitch = note.pitch\n",
    "    accom = Accompany(num=num,den=den,notelist=[])\n",
    "    for note in notes:\n",
    "        start = (note.start-begin_tick)/tpb\n",
    "        rpitch = note.pitch - min_pitch\n",
    "        dur = (note.end-note.start)/tpb\n",
    "        accom.add_notes(Note(start,rpitch,dur))\n",
    "    return accom\n",
    "    "
   ]
  },
  {
   "cell_type": "code",
   "execution_count": 100,
   "metadata": {},
   "outputs": [
    {
     "name": "stdout",
     "output_type": "stream",
     "text": [
      "Crazy ../data/nice_format\\liz_donjuan.mid\n",
      "47803\n"
     ]
    }
   ],
   "source": [
    "import glob\n",
    "from miditoolkit.midi import parser as mid_parser  \n",
    "from miditoolkit.midi import containers as ct\n",
    "import math\n",
    "\n",
    "\n",
    "database = []\n",
    "for midifile in glob.glob(\"../data/nice_format/*.mid\"): #Replace it with your own directory\n",
    "    tempdb = []\n",
    "    mido = mid_parser.MidiFile(midifile)\n",
    "    # print(mido.time_signature_changes)\n",
    "    tschanges = dict()\n",
    "    for ts in mido.time_signature_changes:\n",
    "        tschanges[ts.time] = (ts.numerator,ts.denominator)\n",
    "        if ts.numerator == 37:\n",
    "            print(\"Crazy\",midifile)\n",
    "    tpb = mido.ticks_per_beat\n",
    "    numerator = tschanges[0][0]\n",
    "    denominator = tschanges[0][1]\n",
    "    del tschanges[0]\n",
    "    idx = -1\n",
    "    # if len(mido.instruments) > 2:\n",
    "    #     print(f\"{midifile} has more than two channels, please check\")\n",
    "    #     continue\n",
    "    for i,inst in enumerate(mido.instruments):\n",
    "        if inst.name.find(\"left\") != -1 or inst.name.find(\"Left\") != 1:\n",
    "            idx = i\n",
    "            break\n",
    "    if idx == -1:\n",
    "        print(f\"{midifile} may not have left channel, please check.\")\n",
    "        continue\n",
    "    add_interval = int(tpb*numerator*(0.5 ** (math.log(denominator,2)-2)))\n",
    "    current_tick = add_interval\n",
    "    begin_tick = 0    \n",
    "    notelist = []\n",
    "    tmp_notelist = []\n",
    "    for note in mido.instruments[idx].notes:\n",
    "        if note.start < current_tick:\n",
    "            if note.end > current_tick:\n",
    "                tmp_notelist.append(ct.Note(start=current_tick,end=note.end,pitch=note.pitch,velocity=note.velocity))\n",
    "                notelist.append(ct.Note(start=note.start,end=current_tick,pitch=note.pitch,velocity=note.velocity))\n",
    "            else:\n",
    "                notelist.append(note)\n",
    "        else:\n",
    "            if notelist != []:\n",
    "                tempdb.append(notes_bar_processing(notelist,begin_tick,tpb,numerator,denominator))\n",
    "            notelist = []\n",
    "            begin_tick = current_tick\n",
    "            if begin_tick in tschanges:\n",
    "                numerator,denominator = tschanges[begin_tick]\n",
    "                add_interval = int(tpb*numerator*(0.5 ** (math.log(denominator,2)-2)))\n",
    "                del tschanges[begin_tick]\n",
    "            current_tick += add_interval\n",
    "            tmp2 = []\n",
    "            for note2 in tmp_notelist:\n",
    "                if note2.end > current_tick:\n",
    "                    tmp2.append(ct.Note(start=current_tick,end=note2.end,pitch=note2.pitch,velocity=note2.velocity))\n",
    "                    notelist.append(ct.Note(start=note2.start,end=current_tick,pitch=note2.pitch,velocity=note2.velocity))\n",
    "                else:\n",
    "                    notelist.append(note2)\n",
    "            tmp_notelist = tmp2\n",
    "            if note.end > current_tick:\n",
    "                tmp_notelist.append(ct.Note(start=current_tick,end=note.end,pitch=note.pitch,velocity=note.velocity))\n",
    "                notelist.append(ct.Note(start=note.start,end=current_tick,pitch=note.pitch,velocity=note.velocity))\n",
    "            else:\n",
    "                notelist.append(note)\n",
    "    if notelist != []:\n",
    "        tempdb.append(notes_bar_processing(notelist,begin_tick,tpb,numerator,denominator))\n",
    "    try:\n",
    "        assert len(tschanges) == 0\n",
    "    except AssertionError:\n",
    "        print(f\"{midifile} time signature problem, it will be skipped.\")\n",
    "        #Probably a time signature change in middle of bar, I will ignore it\n",
    "    else:\n",
    "        database.extend(tempdb)\n",
    "print(len(database))"
   ]
  },
  {
   "cell_type": "code",
   "execution_count": 108,
   "metadata": {},
   "outputs": [
    {
     "name": "stdout",
     "output_type": "stream",
     "text": [
      "{'numerator': 3, 'denominator': 4, 'notes': [{'s': 0.0, 'i': 2, 'd': 0.5}, {'s': 0.5, 'i': 3, 'd': 0.5}, {'s': 1.0, 'i': 5, 'd': 0.5}, {'s': 1.5, 'i': 2, 'd': 0.5}, {'s': 2.0, 'i': 3, 'd': 0.5}, {'s': 2.5, 'i': 2, 'd': 0.25}, {'s': 2.75, 'i': 0, 'd': 0.125}, {'s': 2.875, 'i': 2, 'd': 0.125}], 'rhythm': [1, 0, 0, 0, 1, 0, 0, 0, 1, 0, 0, 0, 1, 0, 0, 0, 1, 0, 0, 0, 1, 0, 1, 1]}\n"
     ]
    }
   ],
   "source": [
    "print(database[2].export_dict())"
   ]
  },
  {
   "cell_type": "code",
   "execution_count": 102,
   "metadata": {},
   "outputs": [
    {
     "data": {
      "text/plain": [
       "{'3/4': 11231,\n",
       " '2/4': 10283,\n",
       " '3/8': 4629,\n",
       " '10/4': 6,\n",
       " '4/4': 11664,\n",
       " '5/8': 149,\n",
       " '6/8': 4960,\n",
       " '12/8': 309,\n",
       " '4/8': 1944,\n",
       " '2/8': 182,\n",
       " '8/8': 49,\n",
       " '6/4': 670,\n",
       " '7/4': 11,\n",
       " '9/8': 526,\n",
       " '9/4': 8,\n",
       " '4/16': 2,\n",
       " '3/16': 372,\n",
       " '5/4': 55,\n",
       " '15/16': 1,\n",
       " '14/16': 1,\n",
       " '19/16': 1,\n",
       " '20/16': 1,\n",
       " '21/16': 1,\n",
       " '28/16': 1,\n",
       " '8/4': 247,\n",
       " '13/16': 6,\n",
       " '17/16': 3,\n",
       " '7/8': 12,\n",
       " '2/2': 130,\n",
       " '12/16': 178,\n",
       " '44/32': 3,\n",
       " '48/32': 1,\n",
       " '37/32': 2,\n",
       " '36/32': 1,\n",
       " '13/8': 3,\n",
       " '11/4': 5,\n",
       " '21/8': 1,\n",
       " '10/8': 1,\n",
       " '12/4': 3,\n",
       " '6/16': 126,\n",
       " '11/32': 1,\n",
       " '14/4': 1,\n",
       " '4/2': 17,\n",
       " '9/16': 1,\n",
       " '3/2': 2,\n",
       " '15/32': 1,\n",
       " '16/8': 2}"
      ]
     },
     "execution_count": 102,
     "metadata": {},
     "output_type": "execute_result"
    }
   ],
   "source": [
    "# Analysis of different TS frequencies\n",
    "frequency = dict()\n",
    "for records in database:\n",
    "    ks = str(records.numerator) +\"/\" + str(records.denominator)\n",
    "    if ks in frequency:\n",
    "        frequency[ks] += 1\n",
    "    else:\n",
    "        frequency[ks] = 1\n",
    "frequency"
   ]
  },
  {
   "cell_type": "markdown",
   "metadata": {},
   "source": [
    "# 2. Extract Rhythm of the piece"
   ]
  },
  {
   "cell_type": "code",
   "execution_count": 103,
   "metadata": {},
   "outputs": [],
   "source": [
    "piece = \"../aligned/aligned/hand_picked_spotify-51/orchestra.mid\""
   ]
  },
  {
   "cell_type": "code",
   "execution_count": 104,
   "metadata": {},
   "outputs": [
    {
     "name": "stdout",
     "output_type": "stream",
     "text": [
      "[4, 8, 12, 13]\n"
     ]
    }
   ],
   "source": [
    "#Find channel with lowest pitch (Now: basically channels using bass clef, any better way?)\n",
    "mido_obj = mid_parser.MidiFile(piece)\n",
    "minpitch = 129\n",
    "chosen_channel = []\n",
    "for idx, inst in enumerate(mido_obj.instruments):\n",
    "    if inst.is_drum:\n",
    "        continue\n",
    "    total_pitch = 0\n",
    "    total_note = 0\n",
    "    for note in inst.notes:\n",
    "        total_pitch += note.pitch\n",
    "        total_note += 1\n",
    "    avg_pitch = total_pitch/total_note\n",
    "    # print(idx,avg_pitch)\n",
    "    if avg_pitch <= 54:\n",
    "        chosen_channel.append(idx)\n",
    "print(chosen_channel)"
   ]
  },
  {
   "cell_type": "code",
   "execution_count": 105,
   "metadata": {},
   "outputs": [],
   "source": [
    "#Sanity Check \n",
    "final_notelist = []\n",
    "tpb = mido_obj.ticks_per_beat\n",
    "class noteMidi:\n",
    "    def __init__(self,p,s,e):\n",
    "        self.pitch = p\n",
    "        self.onset = s\n",
    "        self.offset = e\n",
    "for channel in chosen_channel:\n",
    "    for note in mido_obj.instruments[channel].notes:\n",
    "        final_notelist.append(noteMidi(note.pitch,note.start,note.end))\n",
    "# mido_out = mid_parser.MidiFile()\n",
    "# mido_out.ticks_per_beat = tpb\n",
    "# track = ct.Instrument(program=0,is_drum=False,name='example track')\n",
    "# mido_out.instruments = [track]\n",
    "# for note in final_notelist:\n",
    "#     mido_out.instruments[0].notes.append(ct.Note(start=note.onset,end=note.offset,pitch=note.pitch,velocity=30))\n",
    "# mido_out.dump(\"result.mid\")"
   ]
  },
  {
   "cell_type": "code",
   "execution_count": 106,
   "metadata": {},
   "outputs": [
    {
     "ename": "AttributeError",
     "evalue": "'noteMidi' object has no attribute 'start'",
     "output_type": "error",
     "traceback": [
      "\u001b[1;31m---------------------------------------------------------------------------\u001b[0m",
      "\u001b[1;31mAttributeError\u001b[0m                            Traceback (most recent call last)",
      "\u001b[1;32m~\\AppData\\Local\\Temp/ipykernel_16872/1345279560.py\u001b[0m in \u001b[0;36m<module>\u001b[1;34m\u001b[0m\n\u001b[0;32m     28\u001b[0m \u001b[1;31m#/16 split for each bar\u001b[0m\u001b[1;33m\u001b[0m\u001b[1;33m\u001b[0m\u001b[1;33m\u001b[0m\u001b[0m\n\u001b[0;32m     29\u001b[0m \u001b[1;31m#use the above code\u001b[0m\u001b[1;33m\u001b[0m\u001b[1;33m\u001b[0m\u001b[1;33m\u001b[0m\u001b[0m\n\u001b[1;32m---> 30\u001b[1;33m \u001b[0mfinal_notelist\u001b[0m \u001b[1;33m=\u001b[0m \u001b[0msorted\u001b[0m\u001b[1;33m(\u001b[0m\u001b[0mfinal_notelist\u001b[0m\u001b[1;33m,\u001b[0m\u001b[0mkey\u001b[0m \u001b[1;33m=\u001b[0m \u001b[1;32mlambda\u001b[0m \u001b[0mx\u001b[0m\u001b[1;33m:\u001b[0m\u001b[0mx\u001b[0m\u001b[1;33m.\u001b[0m\u001b[0mstart\u001b[0m\u001b[1;33m)\u001b[0m\u001b[1;33m\u001b[0m\u001b[1;33m\u001b[0m\u001b[0m\n\u001b[0m\u001b[0;32m     31\u001b[0m \u001b[1;31m#again need assume only one time signature for now\u001b[0m\u001b[1;33m\u001b[0m\u001b[1;33m\u001b[0m\u001b[1;33m\u001b[0m\u001b[0m\n\u001b[0;32m     32\u001b[0m \u001b[0mnumerator\u001b[0m \u001b[1;33m=\u001b[0m \u001b[0mmido_obj\u001b[0m\u001b[1;33m.\u001b[0m\u001b[0mtime_signature_changes\u001b[0m\u001b[1;33m[\u001b[0m\u001b[1;36m0\u001b[0m\u001b[1;33m]\u001b[0m\u001b[1;33m.\u001b[0m\u001b[0mnumerator\u001b[0m\u001b[1;33m\u001b[0m\u001b[1;33m\u001b[0m\u001b[0m\n",
      "\u001b[1;32m~\\AppData\\Local\\Temp/ipykernel_16872/1345279560.py\u001b[0m in \u001b[0;36m<lambda>\u001b[1;34m(x)\u001b[0m\n\u001b[0;32m     28\u001b[0m \u001b[1;31m#/16 split for each bar\u001b[0m\u001b[1;33m\u001b[0m\u001b[1;33m\u001b[0m\u001b[1;33m\u001b[0m\u001b[0m\n\u001b[0;32m     29\u001b[0m \u001b[1;31m#use the above code\u001b[0m\u001b[1;33m\u001b[0m\u001b[1;33m\u001b[0m\u001b[1;33m\u001b[0m\u001b[0m\n\u001b[1;32m---> 30\u001b[1;33m \u001b[0mfinal_notelist\u001b[0m \u001b[1;33m=\u001b[0m \u001b[0msorted\u001b[0m\u001b[1;33m(\u001b[0m\u001b[0mfinal_notelist\u001b[0m\u001b[1;33m,\u001b[0m\u001b[0mkey\u001b[0m \u001b[1;33m=\u001b[0m \u001b[1;32mlambda\u001b[0m \u001b[0mx\u001b[0m\u001b[1;33m:\u001b[0m\u001b[0mx\u001b[0m\u001b[1;33m.\u001b[0m\u001b[0mstart\u001b[0m\u001b[1;33m)\u001b[0m\u001b[1;33m\u001b[0m\u001b[1;33m\u001b[0m\u001b[0m\n\u001b[0m\u001b[0;32m     31\u001b[0m \u001b[1;31m#again need assume only one time signature for now\u001b[0m\u001b[1;33m\u001b[0m\u001b[1;33m\u001b[0m\u001b[1;33m\u001b[0m\u001b[0m\n\u001b[0;32m     32\u001b[0m \u001b[0mnumerator\u001b[0m \u001b[1;33m=\u001b[0m \u001b[0mmido_obj\u001b[0m\u001b[1;33m.\u001b[0m\u001b[0mtime_signature_changes\u001b[0m\u001b[1;33m[\u001b[0m\u001b[1;36m0\u001b[0m\u001b[1;33m]\u001b[0m\u001b[1;33m.\u001b[0m\u001b[0mnumerator\u001b[0m\u001b[1;33m\u001b[0m\u001b[1;33m\u001b[0m\u001b[0m\n",
      "\u001b[1;31mAttributeError\u001b[0m: 'noteMidi' object has no attribute 'start'"
     ]
    }
   ],
   "source": [
    "import numpy as np\n",
    "def find_closest(arr,val):\n",
    "    newlist = [abs(x-val) for x in arr]\n",
    "    return np.argmin(newlist),np.min(newlist)\n",
    "\n",
    "def rhythm_processing(notes,bar_length):\n",
    "    '''\n",
    "    input:\n",
    "        notes: list of notes in the miditoolkit.notes class\n",
    "        bar_length: length of a bar in number of ticks\n",
    "    returns:\n",
    "        a 16D vector where each dimension = 1 if the corresponding time has a note onset.\n",
    "    '''\n",
    "    rhythm_list = [0 for _ in range(16)]\n",
    "    min_start = 1e32\n",
    "    for note in notes:\n",
    "        if note.start < min_start:\n",
    "            min_start = note.start\n",
    "    interval = bar_length/16\n",
    "    rhythm_tick = [i*interval for i in range(16)]\n",
    "    for note in notes:\n",
    "        onset = note.start-min_start\n",
    "        idx,val = find_closest(rhythm_tick,onset)\n",
    "        if val < interval/4:\n",
    "            rhythm_list[idx] = 1\n",
    "    return rhythm_list\n",
    "\n",
    "#/16 split for each bar\n",
    "#use the above code\n",
    "final_notelist = sorted(final_notelist,key = lambda x:x.start)\n",
    "#again need assume only one time signature for now\n",
    "numerator = mido_obj.time_signature_changes[0].numerator\n"
   ]
  },
  {
   "cell_type": "markdown",
   "metadata": {},
   "source": [
    "# 3. Extract Chord information"
   ]
  },
  {
   "cell_type": "code",
   "execution_count": null,
   "metadata": {},
   "outputs": [],
   "source": [
    "#Use the ipervious built thing\n",
    "#Since then environment would need to be different, I assume the code is run independently and imported here using csv\n",
    "import pandas as pd\n",
    "df = pd.read_csv(\"../data/chord.csv\")\n",
    "#get tick and chord information"
   ]
  },
  {
   "cell_type": "markdown",
   "metadata": {},
   "source": [
    "# 4. build the rest of the things!"
   ]
  },
  {
   "cell_type": "code",
   "execution_count": null,
   "metadata": {},
   "outputs": [],
   "source": [
    "import sys\n",
    "sys.path.append(\"../melody_extraction\")\n",
    "from skyline import skyline_melody"
   ]
  },
  {
   "cell_type": "code",
   "execution_count": null,
   "metadata": {},
   "outputs": [],
   "source": [
    "'''\n",
    "for each bar in the selected bass track:\n",
    "    find a record in db with same time signature and nearest note\n",
    "    then, do harmonization based on the chord\n",
    "    then insert the notes to the midi\n",
    "    then combine with the melody obtained from skyline!! Yeah.\n",
    "    #Try on self zoked melody first\n",
    "'''"
   ]
  }
 ],
 "metadata": {
  "interpreter": {
   "hash": "f90a8f327bbf957d1d138e454cc509f13d39a72e7837f7d98e02c25d0e3059a9"
  },
  "kernelspec": {
   "display_name": "Python 3.8.10 64-bit ('fyp': conda)",
   "language": "python",
   "name": "python3"
  },
  "language_info": {
   "codemirror_mode": {
    "name": "ipython",
    "version": 3
   },
   "file_extension": ".py",
   "mimetype": "text/x-python",
   "name": "python",
   "nbconvert_exporter": "python",
   "pygments_lexer": "ipython3",
   "version": "3.8.10"
  },
  "orig_nbformat": 4
 },
 "nbformat": 4,
 "nbformat_minor": 2
}
