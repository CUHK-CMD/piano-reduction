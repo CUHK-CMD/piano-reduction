{
 "cells": [
  {
   "cell_type": "code",
   "execution_count": 19,
   "metadata": {},
   "outputs": [],
   "source": [
    "import tensorflow as tf\n",
    "from tensorflow.keras.layers import LeakyReLU\n",
    "import numpy as np"
   ]
  },
  {
   "cell_type": "code",
   "execution_count": null,
   "metadata": {},
   "outputs": [],
   "source": [
    "#Set Kbar = 1 first"
   ]
  },
  {
   "cell_type": "code",
   "execution_count": 44,
   "metadata": {},
   "outputs": [],
   "source": [
    "class Encoder(tf.keras.Model):\n",
    "    def __init__(self):\n",
    "        super().__init__()\n",
    "        self.pitchconv1 = tf.keras.layers.Conv2D(16,(1,12),(1,12),activation=LeakyReLU())\n",
    "        self.bn1 = tf.keras.layers.BatchNormalization()\n",
    "        self.pitchconv2 = tf.keras.layers.Conv2D(16,(1,7),(1,7),activation=LeakyReLU())\n",
    "        self.bn2 = tf.keras.layers.BatchNormalization()\n",
    "        self.timeconv1 = tf.keras.layers.Conv2D(16,(3,1),(3,1),activation=LeakyReLU())\n",
    "        self.bn3 = tf.keras.layers.BatchNormalization()\n",
    "        self.timeconv2 = tf.keras.layers.Conv2D(16,(2,1),(2,1),activation=LeakyReLU())\n",
    "        self.bn4 = tf.keras.layers.BatchNormalization()\n",
    "        self.timeconv3 = tf.keras.layers.Conv2D(16,(2,1),(2,1),activation=LeakyReLU())\n",
    "        self.bn5 = tf.keras.layers.BatchNormalization()\n",
    "        self.timeconv4 = tf.keras.layers.Conv2D(16,(2,1),(2,1),activation=LeakyReLU())\n",
    "        self.bn6 = tf.keras.layers.BatchNormalization()\n",
    "        self.flatten = tf.keras.layers.Flatten()\n",
    "        \n",
    "    def call(self,inputs):\n",
    "        x = self.pitchconv1(inputs)\n",
    "        x = self.bn1(x)\n",
    "        x = self.pitchconv2(x)\n",
    "        x = self.bn2(x)\n",
    "        x = self.timeconv1(x)\n",
    "        x = self.bn3(x)\n",
    "        x = self.timeconv2(x)\n",
    "        x = self.bn4(x)\n",
    "        x = self.timeconv3(x)\n",
    "        x = self.bn5(x)\n",
    "        x = self.timeconv4(x)\n",
    "        x = self.bn6(x)\n",
    "        return self.flatten(x)\n",
    "\n",
    "\n",
    "class Decoder(tf.keras.Model): #Analogous to the generator actually\n",
    "    def __init__(self):\n",
    "        super().__init__()\n",
    "        self.timeconv1 = tf.keras.layers.Conv2DTranspose(16,(2,1),(2,1),activation=LeakyReLU())\n",
    "        self.bn1 = tf.keras.layers.BatchNormalization()\n",
    "        self.timeconv2 = tf.keras.layers.Conv2DTranspose(16,(2,1),(2,1),activation=LeakyReLU())\n",
    "        self.bn2 = tf.keras.layers.BatchNormalization()\n",
    "        self.timeconv3 = tf.keras.layers.Conv2DTranspose(16,(2,1),(2,1),activation=LeakyReLU())\n",
    "        self.bn3 = tf.keras.layers.BatchNormalization()\n",
    "        self.timeconv4 = tf.keras.layers.Conv2DTranspose(16,(3,1),(3,1),activation=LeakyReLU())\n",
    "        self.bn4 = tf.keras.layers.BatchNormalization()\n",
    "        self.pitchconv1 = tf.keras.layers.Conv2DTranspose(16,(1,7),(1,7),activation=LeakyReLU())\n",
    "        self.bn5 = tf.keras.layers.BatchNormalization()\n",
    "        self.pitchconv2 = tf.keras.layers.Conv2DTranspose(1,(1,12),(1,12),activation=LeakyReLU())\n",
    "        self.bn6 = tf.keras.layers.BatchNormalization()\n",
    "    def call(self,inputs):\n",
    "        x = self.timeconv1(inputs)\n",
    "        x = self.bn1(x)\n",
    "        x = self.timeconv2(x)\n",
    "        x = self.bn2(x)\n",
    "        x = self.timeconv3(x)\n",
    "        x = self.bn3(x)\n",
    "        x = self.timeconv4(x)\n",
    "        x = self.bn4(x)\n",
    "        x = self.pitchconv1(x)\n",
    "        x = self.bn5(x)\n",
    "        x = self.pitchconv2(x)\n",
    "        x = self.bn6(x)\n",
    "        return x"
   ]
  },
  {
   "cell_type": "code",
   "execution_count": null,
   "metadata": {},
   "outputs": [],
   "source": [
    "#we update G once every five updates of D and apply batch normalization only to G"
   ]
  },
  {
   "cell_type": "code",
   "execution_count": 46,
   "metadata": {},
   "outputs": [],
   "source": [
    "class Autoencoder(tf.keras.Model): #Analogous to the generator actually\n",
    "    def __init__(self):\n",
    "        super().__init__()\n",
    "        self.encoder = Encoder()\n",
    "        self.decoder = Decoder()\n",
    "        self.reshape = tf.keras.layers.Reshape((4,1,16))\n",
    "\n",
    "    def call(self,inputs):\n",
    "        x = self.encoder(inputs)\n",
    "        x = self.reshape(x)\n",
    "        x = self.decoder(x)\n",
    "        return x"
   ]
  },
  {
   "cell_type": "code",
   "execution_count": 45,
   "metadata": {},
   "outputs": [
    {
     "name": "stdout",
     "output_type": "stream",
     "text": [
      "Model: \"decoder_2\"\n",
      "_________________________________________________________________\n",
      "Layer (type)                 Output Shape              Param #   \n",
      "=================================================================\n",
      "conv2d_transpose_11 (Conv2DT multiple                  528       \n",
      "_________________________________________________________________\n",
      "batch_normalization_102 (Bat multiple                  64        \n",
      "_________________________________________________________________\n",
      "conv2d_transpose_12 (Conv2DT multiple                  528       \n",
      "_________________________________________________________________\n",
      "batch_normalization_103 (Bat multiple                  64        \n",
      "_________________________________________________________________\n",
      "conv2d_transpose_13 (Conv2DT multiple                  528       \n",
      "_________________________________________________________________\n",
      "batch_normalization_104 (Bat multiple                  64        \n",
      "_________________________________________________________________\n",
      "conv2d_transpose_14 (Conv2DT multiple                  784       \n",
      "_________________________________________________________________\n",
      "batch_normalization_105 (Bat multiple                  64        \n",
      "_________________________________________________________________\n",
      "conv2d_transpose_15 (Conv2DT multiple                  1808      \n",
      "_________________________________________________________________\n",
      "batch_normalization_106 (Bat multiple                  64        \n",
      "_________________________________________________________________\n",
      "conv2d_transpose_16 (Conv2DT multiple                  193       \n",
      "_________________________________________________________________\n",
      "batch_normalization_107 (Bat multiple                  4         \n",
      "=================================================================\n",
      "Total params: 4,693\n",
      "Trainable params: 4,531\n",
      "Non-trainable params: 162\n",
      "_________________________________________________________________\n",
      "WARNING:tensorflow:5 out of the last 5 calls to <function Model.make_predict_function.<locals>.predict_function at 0x000002496319E840> triggered tf.function retracing. Tracing is expensive and the excessive number of tracings could be due to (1) creating @tf.function repeatedly in a loop, (2) passing tensors with different shapes, (3) passing Python objects instead of tensors. For (1), please define your @tf.function outside of the loop. For (2), @tf.function has experimental_relax_shapes=True option that relaxes argument shapes that can avoid unnecessary retracing. For (3), please refer to https://www.tensorflow.org/guide/function#controlling_retracing and https://www.tensorflow.org/api_docs/python/tf/function for  more details.\n"
     ]
    },
    {
     "data": {
      "text/plain": [
       "(1, 96, 84, 1)"
      ]
     },
     "execution_count": 45,
     "metadata": {},
     "output_type": "execute_result"
    }
   ],
   "source": [
    "model = Autoencoder()\n",
    "model.build((32,96,84,1))\n",
    "model.summary()\n",
    "model.compile()"
   ]
  },
  {
   "cell_type": "code",
   "execution_count": null,
   "metadata": {},
   "outputs": [],
   "source": []
  }
 ],
 "metadata": {
  "interpreter": {
   "hash": "79984e8afee504c2708d2d2c681bfebf477836cea832dbf04e0f4e1cb9b885d1"
  },
  "kernelspec": {
   "display_name": "Python 3.6.13 ('fyp36')",
   "language": "python",
   "name": "python3"
  },
  "language_info": {
   "codemirror_mode": {
    "name": "ipython",
    "version": 3
   },
   "file_extension": ".py",
   "mimetype": "text/x-python",
   "name": "python",
   "nbconvert_exporter": "python",
   "pygments_lexer": "ipython3",
   "version": "3.6.13"
  },
  "orig_nbformat": 4
 },
 "nbformat": 4,
 "nbformat_minor": 2
}
