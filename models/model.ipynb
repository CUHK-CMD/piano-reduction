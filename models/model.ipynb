{
 "cells": [
  {
   "cell_type": "code",
   "execution_count": 19,
   "metadata": {},
   "outputs": [],
   "source": [
    "import tensorflow as tf\n",
    "from tensorflow.keras.layers import LeakyReLU\n",
    "import numpy as np"
   ]
  },
  {
   "cell_type": "code",
   "execution_count": null,
   "metadata": {},
   "outputs": [],
   "source": [
    "#Set Kbar = 1 first"
   ]
  },
  {
   "cell_type": "code",
   "execution_count": 44,
   "metadata": {},
   "outputs": [],
   "source": [
    "class Encoder(tf.keras.Model):\n",
    "    def __init__(self):\n",
    "        super().__init__()\n",
    "        self.pitchconv1 = tf.keras.layers.Conv2D(16,(1,12),(1,12),activation=LeakyReLU())\n",
    "        self.bn1 = tf.keras.layers.BatchNormalization()\n",
    "        self.pitchconv2 = tf.keras.layers.Conv2D(16,(1,7),(1,7),activation=LeakyReLU())\n",
    "        self.bn2 = tf.keras.layers.BatchNormalization()\n",
    "        self.timeconv1 = tf.keras.layers.Conv2D(16,(3,1),(3,1),activation=LeakyReLU())\n",
    "        self.bn3 = tf.keras.layers.BatchNormalization()\n",
    "        self.timeconv2 = tf.keras.layers.Conv2D(16,(2,1),(2,1),activation=LeakyReLU())\n",
    "        self.bn4 = tf.keras.layers.BatchNormalization()\n",
    "        self.timeconv3 = tf.keras.layers.Conv2D(16,(2,1),(2,1),activation=LeakyReLU())\n",
    "        self.bn5 = tf.keras.layers.BatchNormalization()\n",
    "        self.timeconv4 = tf.keras.layers.Conv2D(16,(2,1),(2,1),activation=LeakyReLU())\n",
    "        self.bn6 = tf.keras.layers.BatchNormalization()\n",
    "        self.flatten = tf.keras.layers.Flatten()\n",
    "        \n",
    "    def call(self,inputs):\n",
    "        x = self.pitchconv1(inputs)\n",
    "        x = self.bn1(x)\n",
    "        x = self.pitchconv2(x)\n",
    "        x = self.bn2(x)\n",
    "        x = self.timeconv1(x)\n",
    "        x = self.bn3(x)\n",
    "        x = self.timeconv2(x)\n",
    "        x = self.bn4(x)\n",
    "        x = self.timeconv3(x)\n",
    "        x = self.bn5(x)\n",
    "        x = self.timeconv4(x)\n",
    "        x = self.bn6(x)\n",
    "        return self.flatten(x)\n",
    "\n",
    "\n",
    "class Decoder(tf.keras.Model): #Analogous to the generator actually\n",
    "    def __init__(self):\n",
    "        super().__init__()\n",
    "        self.timeconv1 = tf.keras.layers.Conv2DTranspose(16,(2,1),(2,1),activation=LeakyReLU())\n",
    "        self.bn1 = tf.keras.layers.BatchNormalization()\n",
    "        self.timeconv2 = tf.keras.layers.Conv2DTranspose(16,(2,1),(2,1),activation=LeakyReLU())\n",
    "        self.bn2 = tf.keras.layers.BatchNormalization()\n",
    "        self.timeconv3 = tf.keras.layers.Conv2DTranspose(16,(2,1),(2,1),activation=LeakyReLU())\n",
    "        self.bn3 = tf.keras.layers.BatchNormalization()\n",
    "        self.timeconv4 = tf.keras.layers.Conv2DTranspose(16,(3,1),(3,1),activation=LeakyReLU())\n",
    "        self.bn4 = tf.keras.layers.BatchNormalization()\n",
    "        self.pitchconv1 = tf.keras.layers.Conv2DTranspose(16,(1,7),(1,7),activation=LeakyReLU())\n",
    "        self.bn5 = tf.keras.layers.BatchNormalization()\n",
    "        self.pitchconv2 = tf.keras.layers.Conv2DTranspose(1,(1,12),(1,12),activation=LeakyReLU())\n",
    "        self.bn6 = tf.keras.layers.BatchNormalization()\n",
    "    def call(self,inputs):\n",
    "        x = self.timeconv1(inputs)\n",
    "        x = self.bn1(x)\n",
    "        x = self.timeconv2(x)\n",
    "        x = self.bn2(x)\n",
    "        x = self.timeconv3(x)\n",
    "        x = self.bn3(x)\n",
    "        x = self.timeconv4(x)\n",
    "        x = self.bn4(x)\n",
    "        x = self.pitchconv1(x)\n",
    "        x = self.bn5(x)\n",
    "        x = self.pitchconv2(x)\n",
    "        x = self.bn6(x)\n",
    "        return x"
   ]
  },
  {
   "cell_type": "code",
   "execution_count": null,
   "metadata": {},
   "outputs": [],
   "source": [
    "#we update G once every five updates of D and apply batch normalization only to G"
   ]
  },
  {
   "cell_type": "code",
   "execution_count": 46,
   "metadata": {},
   "outputs": [],
   "source": [
    "class Autoencoder(tf.keras.Model): #Analogous to the generator actually\n",
    "    def __init__(self):\n",
    "        super().__init__()\n",
    "        self.encoder = Encoder()\n",
    "        self.decoder = Decoder()\n",
    "        self.reshape = tf.keras.layers.Reshape((4,1,16))\n",
    "\n",
    "    def call(self,inputs):\n",
    "        x = self.encoder(inputs)\n",
    "        x = self.reshape(x)\n",
    "        x = self.decoder(x)\n",
    "        return x"
   ]
  },
  {
   "cell_type": "code",
   "execution_count": 47,
   "metadata": {},
   "outputs": [
    {
     "name": "stdout",
     "output_type": "stream",
     "text": [
      "Model: \"autoencoder\"\n",
      "_________________________________________________________________\n",
      "Layer (type)                 Output Shape              Param #   \n",
      "=================================================================\n",
      "encoder_15 (Encoder)         multiple                  4768      \n",
      "_________________________________________________________________\n",
      "decoder_3 (Decoder)          multiple                  4693      \n",
      "_________________________________________________________________\n",
      "reshape (Reshape)            multiple                  0         \n",
      "=================================================================\n",
      "Total params: 9,461\n",
      "Trainable params: 9,107\n",
      "Non-trainable params: 354\n",
      "_________________________________________________________________\n"
     ]
    }
   ],
   "source": [
    "model = Autoencoder()\n",
    "model.build((32,96,84,1))\n",
    "model.summary()\n",
    "model.compile(optimizer='adam', loss=tf.keras.losses.MeanSquaredError)"
   ]
  },
  {
   "cell_type": "code",
   "execution_count": 48,
   "metadata": {},
   "outputs": [
    {
     "name": "stdout",
     "output_type": "stream",
     "text": [
      "WARNING:tensorflow:6 out of the last 6 calls to <function Model.make_predict_function.<locals>.predict_function at 0x00000249642D6400> triggered tf.function retracing. Tracing is expensive and the excessive number of tracings could be due to (1) creating @tf.function repeatedly in a loop, (2) passing tensors with different shapes, (3) passing Python objects instead of tensors. For (1), please define your @tf.function outside of the loop. For (2), @tf.function has experimental_relax_shapes=True option that relaxes argument shapes that can avoid unnecessary retracing. For (3), please refer to https://www.tensorflow.org/guide/function#controlling_retracing and https://www.tensorflow.org/api_docs/python/tf/function for  more details.\n"
     ]
    },
    {
     "data": {
      "text/plain": [
       "(32, 96, 84, 1)"
      ]
     },
     "execution_count": 48,
     "metadata": {},
     "output_type": "execute_result"
    }
   ],
   "source": [
    "data = tf.random.normal((32,96,84,1))\n",
    "model.predict(data).shape"
   ]
  }
 ],
 "metadata": {
  "interpreter": {
   "hash": "79984e8afee504c2708d2d2c681bfebf477836cea832dbf04e0f4e1cb9b885d1"
  },
  "kernelspec": {
   "display_name": "Python 3.6.13 ('fyp36')",
   "language": "python",
   "name": "python3"
  },
  "language_info": {
   "codemirror_mode": {
    "name": "ipython",
    "version": 3
   },
   "file_extension": ".py",
   "mimetype": "text/x-python",
   "name": "python",
   "nbconvert_exporter": "python",
   "pygments_lexer": "ipython3",
   "version": "3.6.13"
  },
  "orig_nbformat": 4
 },
 "nbformat": 4,
 "nbformat_minor": 2
}
