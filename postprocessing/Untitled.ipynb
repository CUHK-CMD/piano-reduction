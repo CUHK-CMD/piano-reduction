{
 "cells": [
  {
   "cell_type": "code",
   "execution_count": 1,
   "id": "b251cf20-09aa-4a35-a929-49b97c3cc702",
   "metadata": {},
   "outputs": [],
   "source": [
    "from miditoolkit.midi import parser as mid_parser  \n",
    "from miditoolkit.midi import containers as ct\n",
    "from numpy import array, linspace\n",
    "from sklearn.neighbors import KernelDensity\n",
    "from matplotlib.pyplot import plot\n",
    "from scipy.signal import argrelextrema\n",
    "from scipy.ndimage import gaussian_filter1d\n",
    "import numpy as np"
   ]
  },
  {
   "cell_type": "code",
   "execution_count": 2,
   "id": "c8a3f2b1-bb93-4096-87af-a6ad74bfc830",
   "metadata": {
    "tags": []
   },
   "outputs": [],
   "source": [
    "# helper function\n",
    "def read_midi(path):\n",
    "    mido_obj = mid_parser.MidiFile(path)\n",
    "    tick_per_beat = mido_obj.ticks_per_beat\n",
    "\n",
    "    notes = [] \n",
    "    for instrument in mido_obj.instruments:\n",
    "        for note in instrument.notes:\n",
    "            notes.append(note)\n",
    "\n",
    "    # sort by start time\n",
    "    notes.sort(key=lambda note:note.start)\n",
    "    return notes,tick_per_beat\n",
    "\n",
    "def write_midi(notes,path='out.mid',tick_per_beat=480):\n",
    "    out = mid_parser.MidiFile()\n",
    "    out.ticks_per_beat = tick_per_beat\n",
    "    out.instruments = [ct.Instrument(program=0,is_drum=False,name='post-processed piano')]\n",
    "    for note in notes:\n",
    "        assert(note.velocity)\n",
    "        out.instruments[0].notes.append(ct.Note(start=note.start,end=note.end,pitch=note.pitch,velocity=note.velocity))\n",
    "    out.dump(path)\n",
    "\n",
    "def find_note_idx_before(beat):\n",
    "    # binary search\n",
    "    target = beat*tick_per_beat-1\n",
    "    left=0\n",
    "    right=len(notes)-1\n",
    "    middle=(left+right+1)//2\n",
    "    while left<right:\n",
    "        if notes[middle].start == target:\n",
    "            if notes[middle+1].start==target:\n",
    "                left=middle+1\n",
    "            else:\n",
    "                break\n",
    "        elif notes[middle].start<target:\n",
    "            left=middle\n",
    "        else:\n",
    "            right=middle-1\n",
    "        middle=(left+right+1)//2\n",
    "    return middle\n",
    "\n",
    "def get_centers_per_beat():\n",
    "    # find centers\n",
    "    centers_per_beat=[]\n",
    "\n",
    "    ahead=2\n",
    "    after=2\n",
    "\n",
    "    start=ahead\n",
    "    end=(notes[-1].start//tick_per_beat - after) +1\n",
    "\n",
    "    trace_start_idx=0\n",
    "    pitch_range = linspace(0,127)\n",
    "    for beat in range(start,end):\n",
    "        notes_within_window = notes[trace_start_idx:find_note_idx_before(beat+after+1)+1]\n",
    "        pitches_within_window = np.array([note.pitch for note in notes_within_window])\n",
    "\n",
    "        # use KDE for clustering(intervaling)(determine the center line for left/right hand respectively)\n",
    "        pitches_within_window = pitches_within_window.reshape(-1,1)\n",
    "        kernel_size=6\n",
    "        #interatve clustering\n",
    "        while True:\n",
    "            kde = KernelDensity(kernel='gaussian', bandwidth=kernel_size).fit(pitches_within_window)\n",
    "            kde_val = kde.score_samples(pitch_range.reshape(-1,1))\n",
    "            # visualization: distribution of notes inside the window\n",
    "            # plot(pitch_range, kde_val)\n",
    "            minima, maxima = argrelextrema(kde_val, np.less)[0], argrelextrema(kde_val, np.greater)[0]\n",
    "            \n",
    "            #termination check\n",
    "            if len(minima)>=1 and len(maxima)>=2:\n",
    "                break\n",
    "            else:\n",
    "                kernel_size*=0.5\n",
    "                assert(kernel_size>=0.001)\n",
    "\n",
    "        # cluster assignment\n",
    "        cutoff=min(pitch_range[minima])\n",
    "        cluster_1_candidate = pitch_range[ maxima[pitch_range[maxima]<cutoff] ]\n",
    "        cluster_2_candidate = pitch_range[ maxima[pitch_range[maxima]>cutoff] ]\n",
    "        assert(len(cluster_1_candidate)>=1)\n",
    "        assert(len(cluster_2_candidate)>=1)\n",
    "        clusters= sorted([round(max(cluster_1_candidate)), round(max(cluster_2_candidate))])\n",
    "        centers_per_beat.append(clusters)\n",
    "\n",
    "    # padding for front and end\n",
    "    centers_per_beat = ([centers_per_beat[0]]*ahead) + centers_per_beat + ([centers_per_beat[-1]]*after)\n",
    "    centers_per_beat = np.array(centers_per_beat)\n",
    "    \n",
    "    #smooth the line\n",
    "    kernel_size=4\n",
    "    centers_per_beat[:,0]=gaussian_filter1d(centers_per_beat[:,0], kernel_size)\n",
    "    centers_per_beat[:,1]=gaussian_filter1d(centers_per_beat[:,1], kernel_size)\n",
    "    \n",
    "    return np.array(centers_per_beat)"
   ]
  },
  {
   "cell_type": "code",
   "execution_count": 3,
   "id": "2d28346c-b8b7-4548-a3af-a7f84c9358d4",
   "metadata": {},
   "outputs": [],
   "source": [
    "# filter long duration notes\n",
    "def trim_long_notes(notes, threshold=4):\n",
    "    def trim(note):\n",
    "        if note.end-note.start>threshold*tick_per_beat:\n",
    "            note.end = note.start+threshold*tick_per_beat\n",
    "        return note\n",
    "    return list(map(trim, notes))"
   ]
  },
  {
   "cell_type": "code",
   "execution_count": 4,
   "id": "7c59d201-85cf-4ab4-beca-2cdaf9c4580e",
   "metadata": {},
   "outputs": [],
   "source": [
    "def octave_transpose(transpose_notes):\n",
    "    # octave transpose\n",
    "    # for simplicity, use semitone instead of octave\n",
    "    max_semitone_distance=15 #should >12\n",
    "\n",
    "    centers_per_beat = get_centers_per_beat()\n",
    "    transpose_track=[]\n",
    "    skip_track=[]\n",
    "    count=0\n",
    "    skip_count=0\n",
    "\n",
    "    for note_idx,note in enumerate(transpose_notes):\n",
    "        current_beat=note.start//tick_per_beat\n",
    "        centers = centers_per_beat[current_beat]\n",
    "        abs_distance_to_centers=abs(note.pitch - centers)\n",
    "        closest_center=np.argmin(abs_distance_to_centers)\n",
    "\n",
    "        if abs_distance_to_centers[closest_center]>max_semitone_distance:\n",
    "            # transpose\n",
    "            if note.pitch>centers[closest_center]:\n",
    "                # transpose downward \n",
    "                # skip right hand first\n",
    "                # TODO: later figure out how to avoid transposing melody's note\n",
    "                if closest_center==0: \n",
    "                    transpose_notes[note_idx].pitch-=12*( ((abs_distance_to_centers[closest_center]-max_semitone_distance)//12) +1)\n",
    "                    count+=1\n",
    "                else:\n",
    "                    skip_count+=1\n",
    "            else:\n",
    "                # transpose upward\n",
    "                transpose_notes[note_idx].pitch+=12*( ((abs_distance_to_centers[closest_center]-max_semitone_distance)//12) +1)\n",
    "                count+=1\n",
    "    \n",
    "    # visualization : center line of left/right hand\n",
    "    print('transposed',count,'notes',', skipped',skip_count)\n",
    "    plot(centers_per_beat)\n",
    "    \n",
    "    return transpose_notes"
   ]
  },
  {
   "cell_type": "code",
   "execution_count": 5,
   "id": "49d9215c-525c-4741-b5f6-58aee81f4448",
   "metadata": {},
   "outputs": [
    {
     "name": "stdout",
     "output_type": "stream",
     "text": [
      "transposed 910 notes , skipped 259\n",
      "out1.mid\n"
     ]
    },
    {
     "data": {
      "image/png": "[encoded data removed]",
      "text/plain": [
       "<Figure size 432x288 with 1 Axes>"
      ]
     },
     "metadata": {
      "needs_background": "light"
     },
     "output_type": "display_data"
    }
   ],
   "source": [
    "# global variable\n",
    "#   tick_per_beat\n",
    "#   notes\n",
    "\n",
    "# main\n",
    "notes,tick_per_beat = read_midi(\"piano.mid\")\n",
    "notes = trim_long_notes(notes)\n",
    "notes = octave_transpose(notes)\n",
    "write_midi(notes, \"out1.mid\", tick_per_beat)"
   ]
  },
  {
   "cell_type": "code",
   "execution_count": 6,
   "id": "0f3edce8-fe07-44c7-82a3-48fd08dedd1c",
   "metadata": {},
   "outputs": [
    {
     "data": {
      "text/plain": [
       "7098"
      ]
     },
     "execution_count": 6,
     "metadata": {},
     "output_type": "execute_result"
    }
   ],
   "source": [
    "len(notes)"
   ]
  }
 ],
 "metadata": {
  "kernelspec": {
   "display_name": "Python 3",
   "language": "python",
   "name": "python3"
  },
  "language_info": {
   "codemirror_mode": {
    "name": "ipython",
    "version": 3
   },
   "file_extension": ".py",
   "mimetype": "text/x-python",
   "name": "python",
   "nbconvert_exporter": "python",
   "pygments_lexer": "ipython3",
   "version": "3.8.8"
  }
 },
 "nbformat": 4,
 "nbformat_minor": 5
}
