{
 "cells": [
  {
   "cell_type": "code",
   "execution_count": 1,
   "id": "3d8d5c70-92fa-4301-8d17-06de3036a448",
   "metadata": {},
   "outputs": [],
   "source": [
    "from miditoolkit.midi import parser as mid_parser  \n",
    "from miditoolkit.midi import containers as ct\n",
    "from numpy import array, linspace\n",
    "from sklearn.neighbors import KernelDensity\n",
    "from matplotlib.pyplot import plot\n",
    "from scipy.signal import argrelextrema\n",
    "from scipy.ndimage import gaussian_filter1d\n",
    "import numpy as np\n",
    "import os\n",
    "from miditoolkit.pianoroll import parser as pr_parser\n",
    "from miditoolkit.pianoroll import utils"
   ]
  },
  {
   "cell_type": "code",
   "execution_count": 34,
   "id": "8a074841-8d66-4a45-b6ab-8e03af92fbb0",
   "metadata": {
    "tags": []
   },
   "outputs": [],
   "source": [
    "def bar_filter(extracted):\n",
    "    y_count=extracted.sum(axis=1)\n",
    "    assert(len(y_count)==96)\n",
    "    #filter bar: if max simotaneous note <=1\n",
    "    # if max(y_count)<=1:\n",
    "    #     return True\n",
    "    \n",
    "    #filter bar: if total active duration <20% of a bar\n",
    "    y_count=np.count_nonzero(y_count)\n",
    "    if y_count/extracted.shape[0] <0.20:\n",
    "        return True\n",
    "\n",
    "    #otherwise: keep\n",
    "    return False\n",
    "\n",
    "    \n",
    "def extract_44_bar(path):\n",
    "    '''\n",
    "    Input: path\n",
    "    Return: ragged array, \n",
    "            each subarray(segment) in the return array represent continuous section in the score\n",
    "                E.g.    Timesignature: 4/4 bar 1-10\n",
    "                        Timesignature: 3/4 bar 11-12\n",
    "                        Timesignature: 4/4 bar 13-15\n",
    "\n",
    "                        Return:\n",
    "                            [[bar1-10],[bar13-15]]\n",
    "    ----------\n",
    "    Remark: filtered bar will be represented by None\n",
    "    '''\n",
    "    pianoroll_time_dimension=24\n",
    "\n",
    "    try:\n",
    "        mido_obj=mid_parser.MidiFile(path)\n",
    "    except Exception as e:\n",
    "        print(f'GG: {e}',end=' ')\n",
    "        return [],0\n",
    "    \n",
    "    tick_per_beat = mido_obj.ticks_per_beat\n",
    "    time_signatures = mido_obj.time_signature_changes\n",
    "\n",
    "    for ts in time_signatures:\n",
    "        if ts.numerator==4 and ts.denominator==4:\n",
    "            break\n",
    "    else:\n",
    "        return [],0\n",
    "\n",
    "    #combine notes (checked: midi use absolute pitch)\n",
    "    notes = [] \n",
    "    for instrument in mido_obj.instruments:\n",
    "        if instrument.is_drum:\n",
    "            continue\n",
    "        for note in instrument.notes:\n",
    "            notes.append(note)\n",
    "    notes.append(ct.Note(start=notes[0].start, end=notes[0].end, pitch=notes[0].pitch, velocity=notes[0].velocity))\n",
    "    notes = sorted(notes,key=lambda note: note.start)\n",
    "\n",
    "    #piano roll\n",
    "    # REMARK: each note += 101 at corrsponding entry. \n",
    "    #         E.g. 808 means 8 identical notes (probably play by different instruments) at that entry\n",
    "\n",
    "    factor_down = pianoroll_time_dimension/ tick_per_beat\n",
    "\n",
    "    try:\n",
    "        pianoroll = pr_parser.notes2pianoroll(\n",
    "                            notes, \n",
    "                            ticks_per_beat=tick_per_beat,\n",
    "                            resample_factor=factor_down,\n",
    "                            binary_thres=1\n",
    "                            )\n",
    "        pianoroll = pianoroll[:, 24:108] #C1-C8\n",
    "        pianoroll = pianoroll*1 #turn boolean to int\n",
    "    except Exception as e:\n",
    "        print(f'GG: {e}',end=' ')\n",
    "        return [],0\n",
    "    \n",
    "\n",
    "    current_bar_start_at=0\n",
    "    extracted_count=0\n",
    "    segments=[]\n",
    "    for idx,ts in enumerate(time_signatures):\n",
    "        sel_bar=[]\n",
    "        current_bar_length=ts.numerator*(4/ts.denominator)*tick_per_beat\n",
    "        if idx!=len(time_signatures)-1:\n",
    "            while current_bar_start_at<time_signatures[idx+1].time:\n",
    "                if current_bar_start_at+current_bar_length<=time_signatures[idx+1].time:\n",
    "                        if ts.numerator==4 and ts.denominator==4:\n",
    "                            sel_bar.append(current_bar_start_at)\n",
    "                current_bar_start_at+=current_bar_length\n",
    "        else:\n",
    "            while current_bar_start_at<notes[-1].end:\n",
    "                if ts.numerator==4 and ts.denominator==4:\n",
    "                    sel_bar.append(current_bar_start_at)\n",
    "                current_bar_start_at+=current_bar_length\n",
    "\n",
    "        if sel_bar!=[]:\n",
    "            segment=[]\n",
    "            for start_tick in sel_bar:\n",
    "                extracted=pianoroll[int(start_tick*factor_down):int(start_tick*factor_down)+pianoroll_time_dimension*4]\n",
    "                if extracted.shape[0]<pianoroll_time_dimension*4:\n",
    "                    extracted=np.vstack((extracted,np.zeros((pianoroll_time_dimension*4-extracted.shape[0],84))))\n",
    "                assert(len(extracted)==pianoroll_time_dimension*4)                \n",
    "                if(bar_filter(extracted) == False):\n",
    "                    segment.append(extracted)\n",
    "                    extracted_count+=1\n",
    "                else:\n",
    "                    # dummy\n",
    "                    segment.append(None)\n",
    "            segments.append(segment)\n",
    "\n",
    "    return segments,extracted_count\n",
    "\n",
    "\n",
    "def paired_extract_44_bar(path):\n",
    "    '''\n",
    "    Input: path\n",
    "    Return: ragged array of dictionary, \n",
    "            each subarray(segment) in the return array represent continuous section in the score\n",
    "                E.g.    bar 1-10_piano, bar 1-10_orchestra (4/4)\n",
    "                        bar 11-12_piano, bar 11-12_orchestra (3/4)\n",
    "                        bar 13-20_piano, bar 13-20_orchestra (4/4)\n",
    "\n",
    "                        Return:\n",
    "                            [{'o':bar1-10_orchestra, 'p':bar1-10_piano},\n",
    "                            {'o':bar13-15_orchestra, 'p':bar13-15_piano}]\n",
    "    ----------\n",
    "    Remark: filtered bar will be represented by None\n",
    "    '''\n",
    "    pianoroll_time_dimension=24\n",
    "\n",
    "    try:\n",
    "        mido_obj_o=mid_parser.MidiFile(path+'\\orchestra.mid')\n",
    "        mido_obj_p=mid_parser.MidiFile(path+'\\piano.mid')\n",
    "    except:\n",
    "        print('GG',end=' ')\n",
    "        return [],0\n",
    "    \n",
    "    tick_per_beat_o = mido_obj_o.ticks_per_beat\n",
    "    tick_per_beat_p = mido_obj_p.ticks_per_beat\n",
    "    time_signatures_o = mido_obj_o.time_signature_changes\n",
    "    time_signatures_p = mido_obj_p.time_signature_changes\n",
    "    \n",
    "    #make sure they r identical in terms of metadata\n",
    "    if not time_signatures_o==time_signatures_p or not tick_per_beat_o==tick_per_beat_p:\n",
    "        return [],0\n",
    "    \n",
    "    # all no time signature\n",
    "    #if len(time_signatures_o)!=0:\n",
    "    #    print('~',end=' ')\n",
    "    \n",
    "    \n",
    "    #assuming all are 4/4\n",
    "    notes_o = [] \n",
    "    for instrument in mido_obj_o.instruments:\n",
    "        if instrument.is_drum:\n",
    "            continue\n",
    "        for note in instrument.notes:\n",
    "            notes_o.append(note)\n",
    "    note_o = sorted(note_o,key=lambda note: note.start)\n",
    "    notes_p = [] \n",
    "    for instrument in mido_obj_p.instruments:\n",
    "        if instrument.is_drum:\n",
    "            continue\n",
    "        for note in instrument.notes:\n",
    "            notes_p.append(note)\n",
    "    note_p = sorted(note_p,key=lambda note: note.start)\n",
    "\n",
    "\n",
    "    factor_down = pianoroll_time_dimension/ tick_per_beat_o\n",
    "\n",
    "    try:\n",
    "        pianoroll_o = pr_parser.notes2pianoroll(\n",
    "                            notes_o, \n",
    "                            ticks_per_beat=tick_per_beat_o,\n",
    "                            resample_factor=factor_down,\n",
    "                            binary_thres=1)\n",
    "        pianoroll_o = pianoroll_o[:, 24:108] #C1-C8\n",
    "        pianoroll_o = pianoroll_o*1\n",
    "        \n",
    "        pianoroll_p = pr_parser.notes2pianoroll(\n",
    "                            notes_p, \n",
    "                            ticks_per_beat=tick_per_beat_p,\n",
    "                            resample_factor=factor_down,\n",
    "                            binary_thres=1)\n",
    "        pianoroll_p = pianoroll_p[:, 24:108] #C1-C8\n",
    "        pianoroll_p = pianoroll_p*1\n",
    "\n",
    "    except:\n",
    "        print('GG',end=' ')\n",
    "        return [],0\n",
    "    \n",
    "\n",
    "    current_bar_start_at=0\n",
    "    extracted_count=0\n",
    "    segments={'o':[],'p':[]}\n",
    "\n",
    "    sel_bar=[]\n",
    "    current_bar_length=(4)*tick_per_beat_o\n",
    "\n",
    "    while current_bar_start_at<notes_o[-1].end:\n",
    "        sel_bar.append(current_bar_start_at)\n",
    "        current_bar_start_at+=current_bar_length\n",
    "\n",
    "    if sel_bar!=[]:\n",
    "        segment_o=[]\n",
    "        segment_p=[]\n",
    "        for start_tick in sel_bar:\n",
    "            extracted_o=pianoroll_o[int(start_tick*factor_down):int(start_tick*factor_down)+pianoroll_time_dimension*4]\n",
    "            extracted_p=pianoroll_p[int(start_tick*factor_down):int(start_tick*factor_down)+pianoroll_time_dimension*4]\n",
    "            if extracted_o.shape[0]<pianoroll_time_dimension*4:\n",
    "                extracted_o=np.vstack((extracted_o,np.zeros((pianoroll_time_dimension*4-extracted_o.shape[0],84))))\n",
    "            if extracted_p.shape[0]<pianoroll_time_dimension*4:\n",
    "                extracted_p=np.vstack((extracted_p,np.zeros((pianoroll_time_dimension*4-extracted_p.shape[0],84))))\n",
    "            assert(len(extracted_o)==pianoroll_time_dimension*4 and len(extracted_p)==pianoroll_time_dimension*4)                \n",
    "            #filter on orchestra\n",
    "            if(bar_filter(extracted_o) == False):\n",
    "                segment_o.append(extracted_o)\n",
    "                segment_p.append(extracted_p)\n",
    "                extracted_count+=1\n",
    "            else:\n",
    "                segment_o.append(None)\n",
    "                segment_p.append(None)\n",
    "        segments['o'].append(segment_o)\n",
    "        segments['p'].append(segment_p)\n",
    "\n",
    "    return segments,extracted_count"
   ]
  },
  {
   "cell_type": "code",
   "execution_count": 35,
   "id": "08ad155a",
   "metadata": {},
   "outputs": [],
   "source": [
    "a,b = extract_44_bar(\"twinkle-twinkle-little-star.mid\")"
   ]
  },
  {
   "cell_type": "code",
   "execution_count": 36,
   "id": "f175a28c",
   "metadata": {},
   "outputs": [],
   "source": [
    "a = np.array(a)\n",
    "a = a.reshape(1,a.shape[1]*a.shape[2],84)"
   ]
  },
  {
   "cell_type": "code",
   "execution_count": 37,
   "id": "de03f247",
   "metadata": {},
   "outputs": [
    {
     "data": {
      "image/png": "[encoded data removed]",
      "text/plain": [
       "<Figure size 432x288 with 1 Axes>"
      ]
     },
     "metadata": {
      "needs_background": "light"
     },
     "output_type": "display_data"
    }
   ],
   "source": [
    "import pypianoroll\n",
    "import matplotlib.pyplot as plt\n",
    "track = pypianoroll.read('twinkle-twinkle-little-star.mid')\n",
    "axs = track.plot()\n",
    "plt.show()"
   ]
  },
  {
   "cell_type": "code",
   "execution_count": 38,
   "id": "9c6c9809",
   "metadata": {},
   "outputs": [
    {
     "data": {
      "image/png": "[encoded data removed]",
      "text/plain": [
       "<Figure size 432x288 with 1 Axes>"
      ]
     },
     "metadata": {
      "needs_background": "light"
     },
     "output_type": "display_data"
    }
   ],
   "source": [
    "a = np.flip(a,2)\n",
    "plt.imshow(a.T,aspect='auto')\n",
    "plt.show()"
   ]
  },
  {
   "cell_type": "code",
   "execution_count": 3,
   "id": "9122f5f7-6320-4ff4-888d-b1e8ed894dfa",
   "metadata": {
    "tags": []
   },
   "outputs": [],
   "source": [
    "def all_midi_file(root_path):\n",
    "    root_path = os.walk(root_path)\n",
    "    for root, directories, files in root_path:\n",
    "        for file in files:\n",
    "            if file.endswith('.mid'):\n",
    "                yield root+'\\\\'+file"
   ]
  },
  {
   "cell_type": "code",
   "execution_count": 4,
   "id": "f168975e-22b0-411d-9fce-6a1d69de280f",
   "metadata": {},
   "outputs": [],
   "source": [
    "data_path='../data/'"
   ]
  },
  {
   "cell_type": "code",
   "execution_count": 5,
   "id": "6f73bf5f-5d8c-42bf-9211-779f4277cb6c",
   "metadata": {},
   "outputs": [],
   "source": [
    "piano=['PianoMidi_nicely_formatted','GiantMIDI_piano(messy)']\n",
    "orchestra=['orchestra','Polyphonic_music_Bach','scena']\n",
    "paired=['LOP_piano&Orchestra_RAW']"
   ]
  },
  {
   "cell_type": "code",
   "execution_count": 6,
   "id": "2e06503e-02d1-47d9-8d2b-aa23e79f6999",
   "metadata": {
    "tags": []
   },
   "outputs": [
    {
     "name": "stdout",
     "output_type": "stream",
     "text": [
      "GG GG GG GG GG GG GG GG GG GG GG GG GG GG GG GG GG GG GG GG GG GG GG GG GG GG GG GG GG GG GG "
     ]
    }
   ],
   "source": [
    "orchestra_data=[]\n",
    "total_orchestra_bar=0\n",
    "for o in orchestra:\n",
    "    for file in all_midi_file(data_path+o):\n",
    "        ans,count=extract_44_bar(file)\n",
    "        if ans!=[]:\n",
    "            total_orchestra_bar+=count\n",
    "            orchestra_data.append(ans)"
   ]
  },
  {
   "cell_type": "code",
   "execution_count": 7,
   "id": "4471a76e-871e-4bb3-9d57-63da9f88aef7",
   "metadata": {},
   "outputs": [
    {
     "data": {
      "text/plain": [
       "38947"
      ]
     },
     "execution_count": 7,
     "metadata": {},
     "output_type": "execute_result"
    }
   ],
   "source": [
    "total_orchestra_bar"
   ]
  },
  {
   "cell_type": "code",
   "execution_count": 8,
   "id": "6390ebbc-2cce-4c98-9a66-a77b8d746083",
   "metadata": {
    "tags": []
   },
   "outputs": [
    {
     "name": "stdout",
     "output_type": "stream",
     "text": [
      "GG "
     ]
    }
   ],
   "source": [
    "piano_data=[]\n",
    "total_piano_bar=0\n",
    "for p in piano:\n",
    "    for file in all_midi_file(data_path+p):\n",
    "        if total_piano_bar>total_orchestra_bar:\n",
    "            break            \n",
    "        ans,count=extract_44_bar(file)\n",
    "        if ans!=[]:\n",
    "            total_piano_bar+=count\n",
    "            piano_data.append(ans)        "
   ]
  },
  {
   "cell_type": "code",
   "execution_count": 9,
   "id": "4e43bf21-1577-4f69-b774-fa1a26cdf2b5",
   "metadata": {},
   "outputs": [
    {
     "data": {
      "text/plain": [
       "39313"
      ]
     },
     "execution_count": 9,
     "metadata": {},
     "output_type": "execute_result"
    }
   ],
   "source": [
    "total_piano_bar"
   ]
  },
  {
   "cell_type": "code",
   "execution_count": 10,
   "id": "149cea97-f9af-4106-a341-cd3488afb8f7",
   "metadata": {},
   "outputs": [
    {
     "data": {
      "text/plain": [
       "(38947, 39313)"
      ]
     },
     "execution_count": 10,
     "metadata": {},
     "output_type": "execute_result"
    }
   ],
   "source": [
    "total_orchestra_bar,total_piano_bar"
   ]
  },
  {
   "cell_type": "code",
   "execution_count": 12,
   "id": "25272480-576d-4e11-a28e-d688ca936612",
   "metadata": {},
   "outputs": [
    {
     "data": {
      "text/plain": [
       "20203"
      ]
     },
     "execution_count": 12,
     "metadata": {},
     "output_type": "execute_result"
    }
   ],
   "source": [
    "paired_data=[]\n",
    "extracted_o_count=0\n",
    "root_path = os.walk(data_path+paired[0])\n",
    "for root, directories, files in root_path:\n",
    "    for d in directories:\n",
    "        segments,count=paired_extract_44_bar(root+'/'+d)\n",
    "        if segments!=[]:\n",
    "            extracted_o_count+=count\n",
    "            paired_data.append(segments)   \n",
    "extracted_o_count"
   ]
  },
  {
   "cell_type": "code",
   "execution_count": null,
   "id": "c4dd4402-d2a6-4c62-ba04-f42ec7d91380",
   "metadata": {},
   "outputs": [],
   "source": []
  },
  {
   "cell_type": "code",
   "execution_count": 14,
   "id": "08612874-8afd-4525-8793-675a08cfc78e",
   "metadata": {},
   "outputs": [],
   "source": [
    "import pickle\n",
    "\n",
    "\n",
    "with open('paired.pickle', 'wb') as pair:\n",
    "    pickle.dump(paired_data, pair, protocol=pickle.HIGHEST_PROTOCOL)\n",
    "\n",
    "with open('orchestra.pickle', 'wb') as o:\n",
    "    pickle.dump(orchestra_data, o, protocol=pickle.HIGHEST_PROTOCOL)\n",
    "    \n",
    "with open('piano.pickle', 'wb') as p:\n",
    "    pickle.dump(piano_data, p, protocol=pickle.HIGHEST_PROTOCOL)\n"
   ]
  },
  {
   "cell_type": "code",
   "execution_count": null,
   "id": "d512f26b-1be0-4d75-9f04-ed5f9d9aaf94",
   "metadata": {
    "tags": []
   },
   "outputs": [
    {
     "name": "stdout",
     "output_type": "stream",
     "text": [
      "error: ../data/orchestra\\Holst\\jupiter.mid\n",
      "error: ../data/orchestra\\Lemire\\alsace.mid\n",
      "error: ../data/orchestra\\Lemire\\claudtte.mid\n",
      "error: ../data/orchestra\\Lemire\\colmar.mid\n",
      "error: ../data/orchestra\\Lemire\\coloniau.mid\n",
      "error: ../data/orchestra\\Lemire\\defile.mid\n",
      "error: ../data/orchestra\\Lemire\\emirel.mid\n",
      "error: ../data/orchestra\\Lemire\\filondor.mid\n",
      "error: ../data/orchestra\\Lemire\\hommage.mid\n",
      "error: ../data/orchestra\\Lemire\\marcheam.mid\n",
      "error: ../data/orchestra\\Lemire\\moreznne.mid\n",
      "error: ../data/orchestra\\Lemire\\ouvertur.mid\n",
      "error: ../data/orchestra\\Lemire\\paulette.mid\n",
      "error: ../data/orchestra\\Lemire\\ranali.mid\n",
      "error: ../data/orchestra\\Lemire\\viecolon.mid\n",
      "error: ../data/orchestra\\Mascagni\\intermez.mid\n",
      "error: ../data/orchestra\\Moussorgsky\\promenad.mid\n",
      "error: ../data/orchestra\\Orff\\ofortuna.mid\n",
      "error: ../data/orchestra\\Puccini\\humming.mid\n",
      "error: ../data/orchestra\\Puccini\\unbeldi.mid\n",
      "error: ../data/orchestra\\Verdi\\celeste.mid\n",
      "error: ../data/orchestra\\Verdi\\numi.mid\n",
      "error: ../data/orchestra\\Wagner\\dutchman.mid\n",
      "error: ../data/scena\\liszt1-2.mid\n",
      "error: ../data/scena\\Ballades\\ballade2.mid\n"
     ]
    }
   ],
   "source": [
    "tc_gt_1_o=0\n",
    "tc_gt_1_p=0\n",
    "tc_st_1_o=0\n",
    "tc_st_1_p=0\n",
    "tc_eq_44_o=0\n",
    "tc_eq_44_p=0\n",
    "\n",
    "ts={'a':0}\n",
    "\n",
    "for o in orchestra:\n",
    "    for file in all_midi_file(data_path+o):\n",
    "        try:\n",
    "            mido_obj = mid_parser.MidiFile(file)\n",
    "        except:\n",
    "            print('error:',file)\n",
    "            continue\n",
    "        tc=mido_obj.time_signature_changes\n",
    "        for t in tc:\n",
    "            temp=str(t.numerator)+'/'+str(t.denominator)\n",
    "            if temp in ts:\n",
    "                ts[temp]+=1\n",
    "            else:\n",
    "                ts[temp]=1"
   ]
  },
  {
   "cell_type": "code",
   "execution_count": null,
   "id": "36b329b8-ac0b-48ef-a054-aeb044b3fbd1",
   "metadata": {},
   "outputs": [],
   "source": [
    "ts"
   ]
  },
  {
   "cell_type": "raw",
   "id": "df40b47e-8e6e-4aa9-b544-a8544e4fcb8e",
   "metadata": {},
   "source": [
    "print('tc_gt_1_o',tc_gt_1_o)\n",
    "print('tc_gt_1_p',tc_gt_1_p)\n",
    "print('tc_st_1_0',tc_st_1_0)\n",
    "print('tc_st_1_p',tc_st_1_p)\n",
    "print('tc_eq_44_o',tc_eq_44_o)\n",
    "print('tc_eq_44_p',tc_eq_44_p)"
   ]
  },
  {
   "cell_type": "raw",
   "id": "f884b91b",
   "metadata": {},
   "source": []
  }
 ],
 "metadata": {
  "kernelspec": {
   "display_name": "Python 3",
   "language": "python",
   "name": "python3"
  },
  "language_info": {
   "codemirror_mode": {
    "name": "ipython",
    "version": 3
   },
   "file_extension": ".py",
   "mimetype": "text/x-python",
   "name": "python",
   "nbconvert_exporter": "python",
   "pygments_lexer": "ipython3",
   "version": "3.6.13"
  }
 },
 "nbformat": 4,
 "nbformat_minor": 5
}
